{
  "nbformat": 4,
  "nbformat_minor": 0,
  "metadata": {
    "kernelspec": {
      "name": "python3",
      "display_name": "Python 3"
    },
    "language_info": {
      "codemirror_mode": {
        "name": "ipython",
        "version": 3
      },
      "file_extension": ".py",
      "mimetype": "text/x-python",
      "name": "python",
      "nbconvert_exporter": "python",
      "pygments_lexer": "ipython3",
      "version": "3.8.2"
    },
    "colab": {
      "name": "art_generator.ipynb",
      "provenance": [],
      "toc_visible": true,
      "machine_shape": "hm"
    },
    "accelerator": "GPU"
  },
  "cells": [
    {
      "cell_type": "markdown",
      "metadata": {
        "id": "pqQ6HpDJkelz",
        "colab_type": "text"
      },
      "source": [
        "# Progressive GANS \n"
      ]
    },
    {
      "cell_type": "markdown",
      "metadata": {
        "id": "LYSbED0xRbHb",
        "colab_type": "text"
      },
      "source": [
        "This is a Progressive GANS model inspired by https://research.nvidia.com/publication/2017-10_Progressive-Growing-of"
      ]
    },
    {
      "cell_type": "code",
      "metadata": {
        "id": "Pb6NFch4kelz",
        "colab_type": "code",
        "colab": {}
      },
      "source": [
        "# https://pytorch.org/tutorials/beginner/dcgan_faces_tutorial.html\n",
        "\n",
        "from __future__ import print_function\n",
        "import argparse\n",
        "import os\n",
        "import random\n",
        "import numpy as np\n",
        "import matplotlib.pyplot as plt\n",
        "import matplotlib.animation as animation\n",
        "from IPython.display import HTML\n",
        "\n",
        "import torch\n",
        "import torch.nn as nn\n",
        "import torch.nn.parallel\n",
        "import torch.backends.cudnn as cudnn\n",
        "import torch.optim as optim\n",
        "import torch.utils.data\n",
        "from torch.utils.tensorboard import SummaryWriter\n",
        "\n",
        "import torchvision\n",
        "import torchvision.datasets as dset\n",
        "import torchvision.transforms as transforms\n",
        "import torchvision.utils as vutils\n",
        "\n",
        "%matplotlib inline"
      ],
      "execution_count": 0,
      "outputs": []
    },
    {
      "cell_type": "code",
      "metadata": {
        "id": "ivag9g9soyQ1",
        "colab_type": "code",
        "outputId": "05e7274f-4d95-4b84-aad2-cd23679ff87f",
        "colab": {
          "base_uri": "https://localhost:8080/",
          "height": 34
        }
      },
      "source": [
        "# mounts the google drive\n",
        "from google.colab import drive\n",
        "drive.mount('/content/drive')"
      ],
      "execution_count": 2,
      "outputs": [
        {
          "output_type": "stream",
          "text": [
            "Drive already mounted at /content/drive; to attempt to forcibly remount, call drive.mount(\"/content/drive\", force_remount=True).\n"
          ],
          "name": "stdout"
        }
      ]
    },
    {
      "cell_type": "markdown",
      "metadata": {
        "id": "P-xs0kl5kel3",
        "colab_type": "text"
      },
      "source": [
        "## Parameters"
      ]
    },
    {
      "cell_type": "code",
      "metadata": {
        "id": "lXtmNIKekel3",
        "colab_type": "code",
        "outputId": "7fe19d45-b424-4327-ea5c-c8ba36badd18",
        "colab": {
          "base_uri": "https://localhost:8080/",
          "height": 34
        }
      },
      "source": [
        "# Set random seed for reproducibility\n",
        "SEED = 0\n",
        "random.seed(SEED)\n",
        "torch.manual_seed(SEED)\n",
        "\n",
        "# images\n",
        "DATA_DIR = '/content/drive/My Drive/repos'\n",
        "IMG_DIR = DATA_DIR + '/art_generator/data_raw/all/'\n",
        "IMG_SIZE = 16\n",
        "N_CHANNELS = 3\n",
        "\n",
        "# graph\n",
        "GEN_INPUT_SIZE = 100\n",
        "N_LAYERS = int(np.log(IMG_SIZE) / np.log(2)) - 1\n",
        "N_GEN_CHANNELS = 64\n",
        "N_DISC_CHANNELS = 64\n",
        "beta1 = 0.5\n",
        "\n",
        "# training\n",
        "N_EPOCHS = 200\n",
        "LR = 0.0002\n",
        "N_WORKERS = 2\n",
        "BATCH_SIZE = 16\n",
        "ngpu = 1\n",
        "\n",
        "# checkpoints and logs\n",
        "CHECKPOINT_TYPE = 'none' # prev_model will load the previous model, prev_checkpoint will load the last checkpoint, none will do none. \n",
        "CHECKPOINT_DIR = DATA_DIR + '/art_generator/data_out/model_checkpoints/'\n",
        "LOGDIR = DATA_DIR + '/art_generator/data_out/logs/size-' + str(IMG_SIZE)\n",
        "\n",
        "print('Number of layers: ' + str(N_LAYERS))"
      ],
      "execution_count": 3,
      "outputs": [
        {
          "output_type": "stream",
          "text": [
            "Number of layers: 3\n"
          ],
          "name": "stdout"
        }
      ]
    },
    {
      "cell_type": "markdown",
      "metadata": {
        "id": "SswUiXZHkel6",
        "colab_type": "text"
      },
      "source": [
        "### Dataloader"
      ]
    },
    {
      "cell_type": "code",
      "metadata": {
        "id": "xWL_raiPkel6",
        "colab_type": "code",
        "outputId": "cafa5c2f-6344-43bc-86f9-13ed398006b1",
        "colab": {
          "base_uri": "https://localhost:8080/",
          "height": 34
        }
      },
      "source": [
        "# We can use an image folder dataset the way we have it setup.\n",
        "# Create the dataset\n",
        "dataset = dset.ImageFolder(root=IMG_DIR,\n",
        "                           transform=transforms.Compose([\n",
        "                               transforms.Resize(IMG_SIZE),\n",
        "                               transforms.RandomHorizontalFlip(p=0.5),\n",
        "                               transforms.RandomVerticalFlip(p=0.5),\n",
        "                               transforms.CenterCrop(IMG_SIZE),\n",
        "                               transforms.ToTensor(),\n",
        "                               transforms.Normalize((0.5, 0.5, 0.5), (0.5, 0.5, 0.5)),\n",
        "                           ]))\n",
        "# Create the dataloader\n",
        "dataloader = torch.utils.data.DataLoader(dataset, batch_size=BATCH_SIZE, shuffle=True, num_workers=N_WORKERS)\n",
        "\n",
        "print('Size of dataset: ' + str(len(dataloader.dataset.samples)))"
      ],
      "execution_count": 4,
      "outputs": [
        {
          "output_type": "stream",
          "text": [
            "Size of dataset: 306\n"
          ],
          "name": "stdout"
        }
      ]
    },
    {
      "cell_type": "code",
      "metadata": {
        "id": "0tOFSMIukel9",
        "colab_type": "code",
        "colab": {}
      },
      "source": [
        "# Decide which device we want to run on\n",
        "device = torch.device(\"cuda:0\" if (torch.cuda.is_available() and ngpu > 0) else \"cpu\")"
      ],
      "execution_count": 0,
      "outputs": []
    },
    {
      "cell_type": "code",
      "metadata": {
        "id": "KjETDy6Rkel_",
        "colab_type": "code",
        "outputId": "e3c3d48b-bc16-4bec-cac2-8e211b12ffa8",
        "colab": {
          "base_uri": "https://localhost:8080/",
          "height": 879
        }
      },
      "source": [
        "# Plot some training images\n",
        "real_batch = next(iter(dataloader))\n",
        "plt.figure(figsize=(15, 15))\n",
        "plt.axis(\"off\")\n",
        "plt.title(\"Training Images\")\n",
        "plt.imshow(np.transpose(vutils.make_grid(real_batch[0].to(device)[:64], padding=2, normalize=True, nrow=4).cpu(),(1,2,0)))"
      ],
      "execution_count": 6,
      "outputs": [
        {
          "output_type": "execute_result",
          "data": {
            "text/plain": [
              "<matplotlib.image.AxesImage at 0x7f768cd2e5c0>"
            ]
          },
          "metadata": {
            "tags": []
          },
          "execution_count": 6
        },
        {
          "output_type": "display_data",
          "data": {
            "image/png": "[encoded data removed]",
            "text/plain": [
              "<Figure size 1080x1080 with 1 Axes>"
            ]
          },
          "metadata": {
            "tags": [],
            "needs_background": "light"
          }
        }
      ]
    },
    {
      "cell_type": "code",
      "metadata": {
        "id": "ayq_2-OOkemC",
        "colab_type": "code",
        "colab": {}
      },
      "source": [
        "# custom weights initialization called on netG and netD\n",
        "def weights_init(m):\n",
        "    classname = m.__class__.__name__\n",
        "    if classname.find('Conv') != -1:\n",
        "        nn.init.normal_(m.weight.data, 0.0, 0.02)\n",
        "    elif classname.find('BatchNorm') != -1:\n",
        "        nn.init.normal_(m.weight.data, 1.0, 0.02)\n",
        "        nn.init.constant_(m.bias.data, 0)"
      ],
      "execution_count": 0,
      "outputs": []
    },
    {
      "cell_type": "markdown",
      "metadata": {
        "id": "s0mPh4Q2kemE",
        "colab_type": "text"
      },
      "source": [
        "## Models"
      ]
    },
    {
      "cell_type": "markdown",
      "metadata": {
        "id": "e64hmVh4kemF",
        "colab_type": "text"
      },
      "source": [
        "### Generator"
      ]
    },
    {
      "cell_type": "code",
      "metadata": {
        "id": "C6sXkZy7kemF",
        "colab_type": "code",
        "colab": {}
      },
      "source": [
        "class Generator(nn.Module):\n",
        "    def __init__(self, ngpu, n_layers):\n",
        "        super(Generator, self).__init__()\n",
        "        self.ngpu = ngpu\n",
        "        self.n_layers = n_layers\n",
        "\n",
        "        self.layers = nn.ModuleList([nn.ConvTranspose2d(GEN_INPUT_SIZE, N_GEN_CHANNELS * 2, 4, 1, 0, bias=False)])\n",
        "        self.layers.extend([nn.ConvTranspose2d(N_GEN_CHANNELS * 2, N_GEN_CHANNELS * 2, 4, 2, 1, bias=False) for i in range(self.n_layers - 3)])\n",
        "        self.layers.extend([nn.ConvTranspose2d(N_GEN_CHANNELS * 2, N_GEN_CHANNELS, 4, 2, 1, bias=False),\n",
        "                            nn.ConvTranspose2d(N_GEN_CHANNELS, N_CHANNELS, 4, 2, 1, bias=False)])                   \n",
        "                           \n",
        "        self.batch1 = nn.BatchNorm2d(N_GEN_CHANNELS)\n",
        "        self.batch2 = nn.BatchNorm2d(N_GEN_CHANNELS * 2)\n",
        "\n",
        "        self.relu = nn.ReLU(True)\n",
        "        self.tanh = nn.Tanh()\n",
        "\n",
        "    def forward(self, x):\n",
        "        for i, name in enumerate(self.layers):\n",
        "            x = self.layers[i](x)\n",
        "\n",
        "            if self.layers[i].out_channels == N_GEN_CHANNELS * 2:\n",
        "                x = self.batch2(x)\n",
        "                x = self.relu(x)\n",
        "            elif self.layers[i].out_channels == N_GEN_CHANNELS:\n",
        "                x = self.batch1(x)\n",
        "                x = self.relu(x)\n",
        "            else:\n",
        "                x = self.tanh(x)\n",
        "\n",
        "        return x"
      ],
      "execution_count": 0,
      "outputs": []
    },
    {
      "cell_type": "code",
      "metadata": {
        "id": "Pi8ZQ97gkemI",
        "colab_type": "code",
        "outputId": "b4914991-dff6-4563-bc6a-d53a5e01be1a",
        "colab": {
          "base_uri": "https://localhost:8080/",
          "height": 204
        }
      },
      "source": [
        "# Create the generator\n",
        "netG = Generator(ngpu, N_LAYERS).to(device)\n",
        "\n",
        "# Handle multi-gpu if desired\n",
        "if (device.type == 'cuda') and (ngpu > 1):\n",
        "    netG = nn.DataParallel(netG, list(range(ngpu)))\n",
        "\n",
        "# Apply the weights_init function to randomly initialize all weights\n",
        "#  to mean=0, stdev=0.2.\n",
        "netG.apply(weights_init)"
      ],
      "execution_count": 9,
      "outputs": [
        {
          "output_type": "execute_result",
          "data": {
            "text/plain": [
              "Generator(\n",
              "  (layers): ModuleList(\n",
              "    (0): ConvTranspose2d(100, 128, kernel_size=(4, 4), stride=(1, 1), bias=False)\n",
              "    (1): ConvTranspose2d(128, 64, kernel_size=(4, 4), stride=(2, 2), padding=(1, 1), bias=False)\n",
              "    (2): ConvTranspose2d(64, 3, kernel_size=(4, 4), stride=(2, 2), padding=(1, 1), bias=False)\n",
              "  )\n",
              "  (batch1): BatchNorm2d(64, eps=1e-05, momentum=0.1, affine=True, track_running_stats=True)\n",
              "  (batch2): BatchNorm2d(128, eps=1e-05, momentum=0.1, affine=True, track_running_stats=True)\n",
              "  (relu): ReLU(inplace=True)\n",
              "  (tanh): Tanh()\n",
              ")"
            ]
          },
          "metadata": {
            "tags": []
          },
          "execution_count": 9
        }
      ]
    },
    {
      "cell_type": "code",
      "metadata": {
        "id": "jKRiaEWPkemK",
        "colab_type": "code",
        "colab": {}
      },
      "source": [
        "class Discriminator(nn.Module):\n",
        "    def __init__(self, ngpu, n_layers):\n",
        "        super(Discriminator, self).__init__()\n",
        "        self.ngpu = ngpu\n",
        "        self.n_layers = n_layers\n",
        "\n",
        "        self.layers = nn.ModuleList([nn.Conv2d(N_CHANNELS, N_DISC_CHANNELS * 2, 4, 2, 1, bias=False)])\n",
        "        self.layers.extend([nn.Conv2d(N_DISC_CHANNELS * 2, N_DISC_CHANNELS * 2, 4, 2, 1, bias=False) for i in range(self.n_layers - 2)])\n",
        "        self.layers.append(nn.Conv2d(N_DISC_CHANNELS * 2, 1, 4, 1, 0, bias=False))\n",
        "                           \n",
        "        self.batch2 = nn.BatchNorm2d(N_DISC_CHANNELS * 2)\n",
        "\n",
        "        self.LeakyReLU = nn.LeakyReLU(0.2)\n",
        "        self.sigmoid = nn.Sigmoid()\n",
        "\n",
        "\n",
        "    def forward(self, x):\n",
        "\n",
        "        for i, name in enumerate(self.layers):\n",
        "            x = self.layers[i](x)\n",
        "\n",
        "            if i == 0:\n",
        "                x = self.LeakyReLU(x)            \n",
        "            elif self.layers[i].out_channels == N_DISC_CHANNELS * 2:\n",
        "                x = self.batch2(x)\n",
        "                x = self.LeakyReLU(x)\n",
        "            else:\n",
        "                x = self.sigmoid(x)\n",
        "\n",
        "        return x"
      ],
      "execution_count": 0,
      "outputs": []
    },
    {
      "cell_type": "code",
      "metadata": {
        "id": "n9fOj2jHkemM",
        "colab_type": "code",
        "outputId": "2d4f3942-8d07-4d76-b004-4219c5d9c232",
        "colab": {
          "base_uri": "https://localhost:8080/",
          "height": 187
        }
      },
      "source": [
        "# Create the Discriminator\n",
        "netD = Discriminator(ngpu, N_LAYERS).to(device)\n",
        "\n",
        "# Handle multi-gpu if desired\n",
        "if (device.type == 'cuda') and (ngpu > 1):\n",
        "    netD = nn.DataParallel(netD, list(range(ngpu)))\n",
        "\n",
        "# Apply the weights_init function to randomly initialize all weights\n",
        "#  to mean=0, stdev=0.2.\n",
        "netD.apply(weights_init)"
      ],
      "execution_count": 11,
      "outputs": [
        {
          "output_type": "execute_result",
          "data": {
            "text/plain": [
              "Discriminator(\n",
              "  (layers): ModuleList(\n",
              "    (0): Conv2d(3, 128, kernel_size=(4, 4), stride=(2, 2), padding=(1, 1), bias=False)\n",
              "    (1): Conv2d(128, 128, kernel_size=(4, 4), stride=(2, 2), padding=(1, 1), bias=False)\n",
              "    (2): Conv2d(128, 1, kernel_size=(4, 4), stride=(1, 1), bias=False)\n",
              "  )\n",
              "  (batch2): BatchNorm2d(128, eps=1e-05, momentum=0.1, affine=True, track_running_stats=True)\n",
              "  (LeakyReLU): LeakyReLU(negative_slope=0.2)\n",
              "  (sigmoid): Sigmoid()\n",
              ")"
            ]
          },
          "metadata": {
            "tags": []
          },
          "execution_count": 11
        }
      ]
    },
    {
      "cell_type": "markdown",
      "metadata": {
        "id": "rmobenkbkemQ",
        "colab_type": "text"
      },
      "source": [
        "### Loss functions and optimizers"
      ]
    },
    {
      "cell_type": "code",
      "metadata": {
        "id": "QLMIkppNkemQ",
        "colab_type": "code",
        "colab": {}
      },
      "source": [
        "# Initialize BCELoss function\n",
        "criterion = nn.BCELoss()\n",
        "\n",
        "# Create batch of latent vectors that we will use to visualize\n",
        "#  the progression of the generator\n",
        "fixed_noise = torch.randn(64, GEN_INPUT_SIZE, 1, 1, device=device)\n",
        "\n",
        "# Establish convention for real and fake labels during training\n",
        "real_label = 1\n",
        "fake_label = 0\n",
        "\n",
        "# Setup Adam optimizers for both G and D\n",
        "optimizerD = optim.Adam(netD.parameters(), lr=LR, betas=(beta1, 0.999))\n",
        "optimizerG = optim.Adam(netG.parameters(), lr=LR, betas=(beta1, 0.999))"
      ],
      "execution_count": 0,
      "outputs": []
    },
    {
      "cell_type": "markdown",
      "metadata": {
        "id": "VZeI-7TkkemS",
        "colab_type": "text"
      },
      "source": [
        "### Loads Checkpoint"
      ]
    },
    {
      "cell_type": "code",
      "metadata": {
        "id": "ClQRf3QHbM1W",
        "colab_type": "code",
        "colab": {}
      },
      "source": [
        "if CHECKPOINT_TYPE == 'prev_model':\n",
        "    checkpoint = torch.load(CHECKPOINT_DIR + 'checkpoint_' + str(int(IMG_SIZE / 2)) + '.pt')\n",
        "\n",
        "    # applies the weights to the needed layers\n",
        "    for layer in range(N_LAYERS - 3):\n",
        "        netG.state_dict()['layers.' + str(layer) + '.weight'] = checkpoint['netG_state']['layers.' + str(layer) + '.weight']\n",
        "\n",
        "    # freezes the layers\n",
        "    for i, param in enumerate(netG.parameters()):\n",
        "        if i < N_LAYERS - 3:\n",
        "            param.requires_grad = False\n",
        "\n",
        "    # resets the optimizer with the new parameter values\n",
        "    optimizerG = optim.Adam(netG.parameters(), lr=LR, betas=(beta1, 0.999))\n",
        "\n",
        "    epoch_counter = 0\n",
        "\n",
        "elif CHECKPOINT_TYPE == 'prev_checkpoint':\n",
        "    # loads the model weights\n",
        "    checkpoint = torch.load(CHECKPOINT_DIR + 'checkpoint_' + str(IMG_SIZE) + '.pt')\n",
        "    netG.load_state_dict(checkpoint['netG_state'])\n",
        "    optimizerG.load_state_dict(checkpoint['optimizerG'])\n",
        "    netD.load_state_dict(checkpoint['netD_state'])\n",
        "    optimizerD.load_state_dict(checkpoint['optimizerD'])\n",
        "    print('Checkpoint Loaded')\n",
        "    \n",
        "    # loads the epoch counter\n",
        "    with open(LOGDIR + '/itercount.txt', 'r') as f:\n",
        "        epoch_counter = int(f.read())\n",
        "else:\n",
        "    epoch_counter = 0"
      ],
      "execution_count": 0,
      "outputs": []
    },
    {
      "cell_type": "markdown",
      "metadata": {
        "id": "EXv7nj8SkemV",
        "colab_type": "text"
      },
      "source": [
        "## Training"
      ]
    },
    {
      "cell_type": "code",
      "metadata": {
        "id": "3jqlD8b4kemV",
        "colab_type": "code",
        "outputId": "6632b8b0-9774-418d-d959-9f5bc24e5f72",
        "colab": {
          "base_uri": "https://localhost:8080/",
          "height": 1000
        }
      },
      "source": [
        "# Training Loop\n",
        "writer = SummaryWriter(LOGDIR)\n",
        "\n",
        "# Lists to keep track of progress\n",
        "img_list = []\n",
        "iters = 0\n",
        "\n",
        "print(\"Starting Training Loop...\")\n",
        "# For each epoch\n",
        "for epoch in range(N_EPOCHS):\n",
        "    # For each batch in the dataloader\n",
        "    for i, data in enumerate(dataloader, 0):\n",
        "\n",
        "        ############################\n",
        "        # (1) Update D network: maximize log(D(x)) + log(1 - D(G(z)))\n",
        "        ###########################\n",
        "        ## Train with all-real batch\n",
        "        netD.zero_grad()\n",
        "        \n",
        "        # Format batch\n",
        "        real_cpu = data[0].to(device)\n",
        "        b_size = real_cpu.size(0)\n",
        "        label = torch.full((b_size,), real_label, device=device)\n",
        "\n",
        "        # Forward pass real batch through D\n",
        "        output = netD(real_cpu).view(-1)\n",
        "        # Calculate loss on all-real batch\n",
        "        errD_real = criterion(output, label)\n",
        "        # Calculate gradients for D in backward pass\n",
        "        errD_real.backward()\n",
        "        D_x = output.mean().item()\n",
        "\n",
        "        ## Train with all-fake batch\n",
        "        # Generate batch of latent vectors\n",
        "        noise = torch.randn(b_size, GEN_INPUT_SIZE, 1, 1, device=device)\n",
        "        # Generate fake image batch with G\n",
        "        fake = netG(noise)\n",
        "        label.fill_(fake_label)\n",
        "        # Classify all fake batch with D\n",
        "        output = netD(fake.detach()).view(-1)\n",
        "        # Calculate D's loss on the all-fake batch\n",
        "        errD_fake = criterion(output, label)\n",
        "        # Calculate the gradients for this batch\n",
        "        errD_fake.backward()\n",
        "        D_G_z1 = output.mean().item()\n",
        "        # Add the gradients from the all-real and all-fake batches\n",
        "        errD = errD_real + errD_fake\n",
        "        # Update D\n",
        "        optimizerD.step()\n",
        "\n",
        "        ############################\n",
        "        # (2) Update G network: maximize log(D(G(z)))\n",
        "        ###########################\n",
        "        netG.zero_grad()\n",
        "        label.fill_(real_label)  # fake labels are real for generator cost\n",
        "        # Since we just updated D, perform another forward pass of all-fake batch through D\n",
        "        output = netD(fake).view(-1)\n",
        "        # Calculate G's loss based on this output\n",
        "        errG = criterion(output, label)\n",
        "        # Calculate gradients for G\n",
        "        errG.backward()\n",
        "        D_G_z2 = output.mean().item()\n",
        "        # Update G\n",
        "        optimizerG.step()\n",
        "\n",
        "    # Save the loss for the generator and discriminator\n",
        "    writer.add_scalar('Loss/Gen', errG.item(), epoch_counter)\n",
        "    writer.add_scalar('Loss/Disc', errD.item(), epoch_counter)\n",
        "\n",
        "    # print the status\n",
        "    print('EPOCH: [%d/%d] BATCH: [%d/%d]\\tLoss_D: %.4f\\tLoss_G: %.4f\\tD(x): %.4f\\tD(G(z)): %.4f / %.4f'\n",
        "            % (epoch_counter, N_EPOCHS, i, len(dataloader),\n",
        "                errD.item(), errG.item(), D_x, D_G_z1, D_G_z2))\n",
        "    \n",
        "    # saves a checkpoint        \n",
        "    checkpoint = {'netG_state': netG.state_dict(), 'optimizerG': optimizerG.state_dict(),\n",
        "                    'netD_state': netD.state_dict(), 'optimizerD': optimizerD.state_dict()}\n",
        "    torch.save(checkpoint, CHECKPOINT_DIR + 'checkpoint_' + str(IMG_SIZE) + '.pt')\n",
        "    \n",
        "    # saves the epoch counter\n",
        "    with open(LOGDIR + '/itercount.txt', 'w') as f:\n",
        "        f.write(str(epoch_counter))\n",
        "    epoch_counter += 1\n",
        "\n",
        "    # Saves an image so we can view the progression\n",
        "    with torch.no_grad():\n",
        "        output = netG(fixed_noise).detach().cpu()\n",
        "    grid = torchvision.utils.make_grid(output[8])\n",
        "    writer.add_image('image_epoch_' + str(epoch_counter), grid)\n",
        "\n",
        "writer.close()"
      ],
      "execution_count": 14,
      "outputs": [
        {
          "output_type": "stream",
          "text": [
            "Starting Training Loop...\n"
          ],
          "name": "stdout"
        },
        {
          "output_type": "stream",
          "text": [
            "/pytorch/aten/src/ATen/native/TensorFactories.cpp:361: UserWarning: Deprecation warning: In a future PyTorch release torch.full will no longer return tensors of floating dtype by default. Instead, a bool fill_value will return a tensor of torch.bool dtype, and an integral fill_value will return a tensor of torch.long dtype. Set the optional `dtype` or `out` arguments to suppress this warning.\n"
          ],
          "name": "stderr"
        },
        {
          "output_type": "stream",
          "text": [
            "EPOCH: [0/200] BATCH: [19/20]\tLoss_D: 1.0192\tLoss_G: 2.7061\tD(x): 0.5358\tD(G(z)): 0.3097 / 0.0707\n",
            "EPOCH: [1/200] BATCH: [19/20]\tLoss_D: 0.3877\tLoss_G: 2.9069\tD(x): 0.8305\tD(G(z)): 0.1828 / 0.0549\n",
            "EPOCH: [2/200] BATCH: [19/20]\tLoss_D: 0.8936\tLoss_G: 2.7441\tD(x): 0.5067\tD(G(z)): 0.1873 / 0.0654\n",
            "EPOCH: [3/200] BATCH: [19/20]\tLoss_D: 0.1964\tLoss_G: 4.0486\tD(x): 0.8944\tD(G(z)): 0.0801 / 0.0205\n",
            "EPOCH: [4/200] BATCH: [19/20]\tLoss_D: 0.1509\tLoss_G: 3.5521\tD(x): 0.9258\tD(G(z)): 0.0701 / 0.0308\n",
            "EPOCH: [5/200] BATCH: [19/20]\tLoss_D: 0.1512\tLoss_G: 4.1426\tD(x): 0.9582\tD(G(z)): 0.1014 / 0.0177\n",
            "EPOCH: [6/200] BATCH: [19/20]\tLoss_D: 0.2501\tLoss_G: 4.3316\tD(x): 0.9039\tD(G(z)): 0.1355 / 0.0132\n",
            "EPOCH: [7/200] BATCH: [19/20]\tLoss_D: 0.1791\tLoss_G: 4.3963\tD(x): 0.9365\tD(G(z)): 0.1065 / 0.0127\n",
            "EPOCH: [8/200] BATCH: [19/20]\tLoss_D: 0.3838\tLoss_G: 3.8779\tD(x): 0.7728\tD(G(z)): 0.1051 / 0.0229\n",
            "EPOCH: [9/200] BATCH: [19/20]\tLoss_D: 0.2589\tLoss_G: 3.7688\tD(x): 0.8492\tD(G(z)): 0.0900 / 0.0252\n",
            "EPOCH: [10/200] BATCH: [19/20]\tLoss_D: 0.2511\tLoss_G: 4.6889\tD(x): 0.8748\tD(G(z)): 0.1090 / 0.0092\n",
            "EPOCH: [11/200] BATCH: [19/20]\tLoss_D: 0.8512\tLoss_G: 4.8734\tD(x): 0.5785\tD(G(z)): 0.2337 / 0.0077\n",
            "EPOCH: [12/200] BATCH: [19/20]\tLoss_D: 0.4580\tLoss_G: 3.8396\tD(x): 0.8163\tD(G(z)): 0.2118 / 0.0259\n",
            "EPOCH: [13/200] BATCH: [19/20]\tLoss_D: 0.7575\tLoss_G: 3.7159\tD(x): 0.6636\tD(G(z)): 0.2091 / 0.0269\n",
            "EPOCH: [14/200] BATCH: [19/20]\tLoss_D: 2.4704\tLoss_G: 1.4168\tD(x): 0.1040\tD(G(z)): 0.1541 / 0.2466\n",
            "EPOCH: [15/200] BATCH: [19/20]\tLoss_D: 0.6805\tLoss_G: 2.5413\tD(x): 0.5998\tD(G(z)): 0.1359 / 0.0935\n",
            "EPOCH: [16/200] BATCH: [19/20]\tLoss_D: 0.7418\tLoss_G: 2.3924\tD(x): 0.5908\tD(G(z)): 0.1431 / 0.0917\n",
            "EPOCH: [17/200] BATCH: [19/20]\tLoss_D: 0.5641\tLoss_G: 4.5135\tD(x): 0.9119\tD(G(z)): 0.3743 / 0.0112\n",
            "EPOCH: [18/200] BATCH: [19/20]\tLoss_D: 0.5349\tLoss_G: 4.6225\tD(x): 0.9759\tD(G(z)): 0.3975 / 0.0098\n",
            "EPOCH: [19/200] BATCH: [19/20]\tLoss_D: 0.5168\tLoss_G: 2.3954\tD(x): 0.7137\tD(G(z)): 0.0906 / 0.0997\n",
            "EPOCH: [20/200] BATCH: [19/20]\tLoss_D: 1.6763\tLoss_G: 4.6065\tD(x): 0.3487\tD(G(z)): 0.3355 / 0.0101\n",
            "EPOCH: [21/200] BATCH: [19/20]\tLoss_D: 0.5396\tLoss_G: 3.6655\tD(x): 0.9272\tD(G(z)): 0.3627 / 0.0281\n",
            "EPOCH: [22/200] BATCH: [19/20]\tLoss_D: 0.2706\tLoss_G: 3.0829\tD(x): 0.8784\tD(G(z)): 0.1298 / 0.0461\n",
            "EPOCH: [23/200] BATCH: [19/20]\tLoss_D: 0.9468\tLoss_G: 3.4765\tD(x): 0.5926\tD(G(z)): 0.3438 / 0.0357\n",
            "EPOCH: [24/200] BATCH: [19/20]\tLoss_D: 1.4404\tLoss_G: 2.0555\tD(x): 0.2685\tD(G(z)): 0.0652 / 0.1295\n",
            "EPOCH: [25/200] BATCH: [19/20]\tLoss_D: 1.3301\tLoss_G: 2.9033\tD(x): 0.6372\tD(G(z)): 0.4735 / 0.0585\n",
            "EPOCH: [26/200] BATCH: [19/20]\tLoss_D: 2.6491\tLoss_G: 0.5895\tD(x): 0.0887\tD(G(z)): 0.1324 / 0.5567\n",
            "EPOCH: [27/200] BATCH: [19/20]\tLoss_D: 1.4393\tLoss_G: 1.1938\tD(x): 0.3109\tD(G(z)): 0.2277 / 0.3356\n",
            "EPOCH: [28/200] BATCH: [19/20]\tLoss_D: 0.9248\tLoss_G: 2.5027\tD(x): 0.7086\tD(G(z)): 0.4368 / 0.0921\n",
            "EPOCH: [29/200] BATCH: [19/20]\tLoss_D: 2.3678\tLoss_G: 1.7954\tD(x): 0.1834\tD(G(z)): 0.2336 / 0.1907\n",
            "EPOCH: [30/200] BATCH: [19/20]\tLoss_D: 1.2947\tLoss_G: 2.1536\tD(x): 0.4272\tD(G(z)): 0.3190 / 0.1358\n",
            "EPOCH: [31/200] BATCH: [19/20]\tLoss_D: 0.6720\tLoss_G: 1.6471\tD(x): 0.6238\tD(G(z)): 0.1472 / 0.2067\n",
            "EPOCH: [32/200] BATCH: [19/20]\tLoss_D: 1.1886\tLoss_G: 1.8909\tD(x): 0.4088\tD(G(z)): 0.2512 / 0.1693\n",
            "EPOCH: [33/200] BATCH: [19/20]\tLoss_D: 0.9143\tLoss_G: 3.0124\tD(x): 0.8124\tD(G(z)): 0.4875 / 0.0757\n",
            "EPOCH: [34/200] BATCH: [19/20]\tLoss_D: 0.8511\tLoss_G: 2.9282\tD(x): 0.8107\tD(G(z)): 0.4575 / 0.0536\n",
            "EPOCH: [35/200] BATCH: [19/20]\tLoss_D: 0.9692\tLoss_G: 2.2520\tD(x): 0.4979\tD(G(z)): 0.2278 / 0.1111\n",
            "EPOCH: [36/200] BATCH: [19/20]\tLoss_D: 1.7673\tLoss_G: 3.3642\tD(x): 0.3627\tD(G(z)): 0.4708 / 0.0347\n",
            "EPOCH: [37/200] BATCH: [19/20]\tLoss_D: 0.4257\tLoss_G: 2.8803\tD(x): 0.8499\tD(G(z)): 0.2227 / 0.0566\n",
            "EPOCH: [38/200] BATCH: [19/20]\tLoss_D: 1.5036\tLoss_G: 2.5439\tD(x): 0.4275\tD(G(z)): 0.3477 / 0.0815\n",
            "EPOCH: [39/200] BATCH: [19/20]\tLoss_D: 1.2681\tLoss_G: 2.8627\tD(x): 0.4242\tD(G(z)): 0.3074 / 0.1178\n",
            "EPOCH: [40/200] BATCH: [19/20]\tLoss_D: 0.6887\tLoss_G: 3.4453\tD(x): 0.7436\tD(G(z)): 0.2965 / 0.0330\n",
            "EPOCH: [41/200] BATCH: [19/20]\tLoss_D: 1.3072\tLoss_G: 2.3213\tD(x): 0.3015\tD(G(z)): 0.0914 / 0.1042\n",
            "EPOCH: [42/200] BATCH: [19/20]\tLoss_D: 0.5222\tLoss_G: 2.2971\tD(x): 0.8736\tD(G(z)): 0.3129 / 0.1056\n",
            "EPOCH: [43/200] BATCH: [19/20]\tLoss_D: 1.1837\tLoss_G: 1.6242\tD(x): 0.4424\tD(G(z)): 0.2613 / 0.1975\n",
            "EPOCH: [44/200] BATCH: [19/20]\tLoss_D: 1.6115\tLoss_G: 2.4770\tD(x): 0.3016\tD(G(z)): 0.3056 / 0.0881\n",
            "EPOCH: [45/200] BATCH: [19/20]\tLoss_D: 0.5042\tLoss_G: 2.7112\tD(x): 0.7335\tD(G(z)): 0.1721 / 0.0671\n",
            "EPOCH: [46/200] BATCH: [19/20]\tLoss_D: 1.3044\tLoss_G: 2.4720\tD(x): 0.4835\tD(G(z)): 0.3388 / 0.1214\n",
            "EPOCH: [47/200] BATCH: [19/20]\tLoss_D: 1.0181\tLoss_G: 1.8254\tD(x): 0.5017\tD(G(z)): 0.2774 / 0.1612\n",
            "EPOCH: [48/200] BATCH: [19/20]\tLoss_D: 1.0256\tLoss_G: 1.8371\tD(x): 0.5664\tD(G(z)): 0.3079 / 0.1796\n",
            "EPOCH: [49/200] BATCH: [19/20]\tLoss_D: 2.7307\tLoss_G: 0.9302\tD(x): 0.1107\tD(G(z)): 0.3759 / 0.3946\n",
            "EPOCH: [50/200] BATCH: [19/20]\tLoss_D: 2.0132\tLoss_G: 1.9618\tD(x): 0.2570\tD(G(z)): 0.4727 / 0.1652\n",
            "EPOCH: [51/200] BATCH: [19/20]\tLoss_D: 1.2820\tLoss_G: 3.3781\tD(x): 0.5630\tD(G(z)): 0.4504 / 0.0352\n",
            "EPOCH: [52/200] BATCH: [19/20]\tLoss_D: 2.0288\tLoss_G: 1.4860\tD(x): 0.2478\tD(G(z)): 0.3207 / 0.2371\n",
            "EPOCH: [53/200] BATCH: [19/20]\tLoss_D: 1.4183\tLoss_G: 2.4413\tD(x): 0.2820\tD(G(z)): 0.0955 / 0.0872\n",
            "EPOCH: [54/200] BATCH: [19/20]\tLoss_D: 0.5778\tLoss_G: 2.1766\tD(x): 0.6619\tD(G(z)): 0.0944 / 0.1134\n",
            "EPOCH: [55/200] BATCH: [19/20]\tLoss_D: 0.1755\tLoss_G: 3.1465\tD(x): 0.8942\tD(G(z)): 0.0616 / 0.0435\n",
            "EPOCH: [56/200] BATCH: [19/20]\tLoss_D: 1.4549\tLoss_G: 1.5671\tD(x): 0.3588\tD(G(z)): 0.3051 / 0.2132\n",
            "EPOCH: [57/200] BATCH: [19/20]\tLoss_D: 0.3483\tLoss_G: 2.6616\tD(x): 0.9239\tD(G(z)): 0.2343 / 0.0773\n",
            "EPOCH: [58/200] BATCH: [19/20]\tLoss_D: 1.7668\tLoss_G: 1.4356\tD(x): 0.2641\tD(G(z)): 0.3239 / 0.2667\n",
            "EPOCH: [59/200] BATCH: [19/20]\tLoss_D: 1.4854\tLoss_G: 2.4208\tD(x): 0.3813\tD(G(z)): 0.3649 / 0.1141\n",
            "EPOCH: [60/200] BATCH: [19/20]\tLoss_D: 2.1717\tLoss_G: 2.4332\tD(x): 0.2858\tD(G(z)): 0.5722 / 0.0921\n",
            "EPOCH: [61/200] BATCH: [19/20]\tLoss_D: 0.4114\tLoss_G: 3.0911\tD(x): 0.9861\tD(G(z)): 0.3172 / 0.0482\n",
            "EPOCH: [62/200] BATCH: [19/20]\tLoss_D: 0.9333\tLoss_G: 2.7360\tD(x): 0.5765\tD(G(z)): 0.2796 / 0.0709\n",
            "EPOCH: [63/200] BATCH: [19/20]\tLoss_D: 0.7499\tLoss_G: 2.6663\tD(x): 0.5236\tD(G(z)): 0.0484 / 0.0697\n",
            "EPOCH: [64/200] BATCH: [19/20]\tLoss_D: 1.7210\tLoss_G: 2.2154\tD(x): 0.3341\tD(G(z)): 0.1117 / 0.1106\n",
            "EPOCH: [65/200] BATCH: [19/20]\tLoss_D: 0.6141\tLoss_G: 2.8849\tD(x): 0.7132\tD(G(z)): 0.2377 / 0.0576\n",
            "EPOCH: [66/200] BATCH: [19/20]\tLoss_D: 1.0905\tLoss_G: 2.5735\tD(x): 0.5559\tD(G(z)): 0.3433 / 0.0791\n",
            "EPOCH: [67/200] BATCH: [19/20]\tLoss_D: 0.8789\tLoss_G: 0.8329\tD(x): 0.5934\tD(G(z)): 0.2664 / 0.4854\n",
            "EPOCH: [68/200] BATCH: [19/20]\tLoss_D: 0.9600\tLoss_G: 2.5417\tD(x): 0.4902\tD(G(z)): 0.2041 / 0.0810\n",
            "EPOCH: [69/200] BATCH: [19/20]\tLoss_D: 0.8515\tLoss_G: 2.9062\tD(x): 0.6547\tD(G(z)): 0.3209 / 0.0647\n",
            "EPOCH: [70/200] BATCH: [19/20]\tLoss_D: 1.9414\tLoss_G: 1.9912\tD(x): 0.2455\tD(G(z)): 0.3834 / 0.1565\n",
            "EPOCH: [71/200] BATCH: [19/20]\tLoss_D: 0.9512\tLoss_G: 1.6182\tD(x): 0.5357\tD(G(z)): 0.2717 / 0.1983\n",
            "EPOCH: [72/200] BATCH: [19/20]\tLoss_D: 0.8119\tLoss_G: 2.1356\tD(x): 0.7410\tD(G(z)): 0.4001 / 0.1227\n",
            "EPOCH: [73/200] BATCH: [19/20]\tLoss_D: 2.2497\tLoss_G: 1.6861\tD(x): 0.2181\tD(G(z)): 0.4867 / 0.1870\n",
            "EPOCH: [74/200] BATCH: [19/20]\tLoss_D: 1.0317\tLoss_G: 2.1807\tD(x): 0.6478\tD(G(z)): 0.3916 / 0.1720\n",
            "EPOCH: [75/200] BATCH: [19/20]\tLoss_D: 1.1591\tLoss_G: 1.8505\tD(x): 0.4596\tD(G(z)): 0.3090 / 0.1605\n",
            "EPOCH: [76/200] BATCH: [19/20]\tLoss_D: 1.0562\tLoss_G: 2.5994\tD(x): 0.7268\tD(G(z)): 0.5141 / 0.0757\n",
            "EPOCH: [77/200] BATCH: [19/20]\tLoss_D: 0.6328\tLoss_G: 2.9623\tD(x): 0.8174\tD(G(z)): 0.3461 / 0.0722\n",
            "EPOCH: [78/200] BATCH: [19/20]\tLoss_D: 1.2007\tLoss_G: 3.1007\tD(x): 0.9014\tD(G(z)): 0.6656 / 0.1009\n",
            "EPOCH: [79/200] BATCH: [19/20]\tLoss_D: 1.8629\tLoss_G: 2.9137\tD(x): 0.3616\tD(G(z)): 0.3899 / 0.0635\n",
            "EPOCH: [80/200] BATCH: [19/20]\tLoss_D: 0.7226\tLoss_G: 2.4843\tD(x): 0.6368\tD(G(z)): 0.2227 / 0.0834\n",
            "EPOCH: [81/200] BATCH: [19/20]\tLoss_D: 1.1698\tLoss_G: 2.5105\tD(x): 0.4705\tD(G(z)): 0.3195 / 0.0929\n",
            "EPOCH: [82/200] BATCH: [19/20]\tLoss_D: 0.8596\tLoss_G: 2.5692\tD(x): 0.5933\tD(G(z)): 0.2580 / 0.0767\n",
            "EPOCH: [83/200] BATCH: [19/20]\tLoss_D: 0.9905\tLoss_G: 1.0917\tD(x): 0.4762\tD(G(z)): 0.2183 / 0.3358\n",
            "EPOCH: [84/200] BATCH: [19/20]\tLoss_D: 0.6533\tLoss_G: 3.3671\tD(x): 0.8492\tD(G(z)): 0.3845 / 0.0540\n",
            "EPOCH: [85/200] BATCH: [19/20]\tLoss_D: 1.0880\tLoss_G: 2.6736\tD(x): 0.6100\tD(G(z)): 0.3960 / 0.0802\n",
            "EPOCH: [86/200] BATCH: [19/20]\tLoss_D: 0.6984\tLoss_G: 2.3762\tD(x): 0.5942\tD(G(z)): 0.1576 / 0.0949\n",
            "EPOCH: [87/200] BATCH: [19/20]\tLoss_D: 1.0073\tLoss_G: 2.8467\tD(x): 0.4864\tD(G(z)): 0.1966 / 0.0580\n",
            "EPOCH: [88/200] BATCH: [19/20]\tLoss_D: 0.7198\tLoss_G: 2.2282\tD(x): 0.5919\tD(G(z)): 0.1733 / 0.1192\n",
            "EPOCH: [89/200] BATCH: [19/20]\tLoss_D: 1.7209\tLoss_G: 1.8258\tD(x): 0.2500\tD(G(z)): 0.2829 / 0.1653\n",
            "EPOCH: [90/200] BATCH: [19/20]\tLoss_D: 0.9563\tLoss_G: 2.9553\tD(x): 0.6226\tD(G(z)): 0.3141 / 0.0665\n",
            "EPOCH: [91/200] BATCH: [19/20]\tLoss_D: 0.6260\tLoss_G: 2.7009\tD(x): 0.8287\tD(G(z)): 0.3435 / 0.0763\n",
            "EPOCH: [92/200] BATCH: [19/20]\tLoss_D: 0.8260\tLoss_G: 2.2470\tD(x): 0.6399\tD(G(z)): 0.3154 / 0.1110\n",
            "EPOCH: [93/200] BATCH: [19/20]\tLoss_D: 0.9906\tLoss_G: 3.3091\tD(x): 0.8116\tD(G(z)): 0.5120 / 0.0762\n",
            "EPOCH: [94/200] BATCH: [19/20]\tLoss_D: 1.2462\tLoss_G: 3.6212\tD(x): 0.6563\tD(G(z)): 0.4860 / 0.0285\n",
            "EPOCH: [95/200] BATCH: [19/20]\tLoss_D: 0.4224\tLoss_G: 2.7469\tD(x): 0.9001\tD(G(z)): 0.2595 / 0.0766\n",
            "EPOCH: [96/200] BATCH: [19/20]\tLoss_D: 0.4583\tLoss_G: 2.2269\tD(x): 0.7560\tD(G(z)): 0.1363 / 0.1111\n",
            "EPOCH: [97/200] BATCH: [19/20]\tLoss_D: 1.5670\tLoss_G: 1.2078\tD(x): 0.4517\tD(G(z)): 0.3800 / 0.2993\n",
            "EPOCH: [98/200] BATCH: [19/20]\tLoss_D: 0.2588\tLoss_G: 3.1452\tD(x): 0.9848\tD(G(z)): 0.2079 / 0.0436\n",
            "EPOCH: [99/200] BATCH: [19/20]\tLoss_D: 0.4518\tLoss_G: 2.3575\tD(x): 0.7444\tD(G(z)): 0.1440 / 0.0971\n",
            "EPOCH: [100/200] BATCH: [19/20]\tLoss_D: 0.4811\tLoss_G: 2.6975\tD(x): 0.8638\tD(G(z)): 0.2807 / 0.0681\n",
            "EPOCH: [101/200] BATCH: [19/20]\tLoss_D: 0.9217\tLoss_G: 2.1863\tD(x): 0.5220\tD(G(z)): 0.2313 / 0.1145\n",
            "EPOCH: [102/200] BATCH: [19/20]\tLoss_D: 0.4114\tLoss_G: 2.3269\tD(x): 0.8091\tD(G(z)): 0.1806 / 0.0977\n",
            "EPOCH: [103/200] BATCH: [19/20]\tLoss_D: 0.7176\tLoss_G: 1.2931\tD(x): 0.5495\tD(G(z)): 0.0982 / 0.2793\n",
            "EPOCH: [104/200] BATCH: [19/20]\tLoss_D: 1.3923\tLoss_G: 1.5955\tD(x): 0.2962\tD(G(z)): 0.1596 / 0.2312\n",
            "EPOCH: [105/200] BATCH: [19/20]\tLoss_D: 1.3819\tLoss_G: 2.6611\tD(x): 0.4419\tD(G(z)): 0.3188 / 0.1244\n",
            "EPOCH: [106/200] BATCH: [19/20]\tLoss_D: 0.4644\tLoss_G: 2.4886\tD(x): 0.7805\tD(G(z)): 0.1890 / 0.0882\n",
            "EPOCH: [107/200] BATCH: [19/20]\tLoss_D: 0.4973\tLoss_G: 4.0660\tD(x): 0.9327\tD(G(z)): 0.3474 / 0.0187\n",
            "EPOCH: [108/200] BATCH: [19/20]\tLoss_D: 1.5254\tLoss_G: 2.4081\tD(x): 0.3000\tD(G(z)): 0.2086 / 0.0911\n",
            "EPOCH: [109/200] BATCH: [19/20]\tLoss_D: 0.7663\tLoss_G: 3.3446\tD(x): 0.7565\tD(G(z)): 0.3661 / 0.0464\n",
            "EPOCH: [110/200] BATCH: [19/20]\tLoss_D: 1.9137\tLoss_G: 2.8770\tD(x): 0.4292\tD(G(z)): 0.2978 / 0.0581\n",
            "EPOCH: [111/200] BATCH: [19/20]\tLoss_D: 0.3501\tLoss_G: 2.6740\tD(x): 0.7733\tD(G(z)): 0.0870 / 0.0690\n",
            "EPOCH: [112/200] BATCH: [19/20]\tLoss_D: 0.1700\tLoss_G: 2.9874\tD(x): 0.9120\tD(G(z)): 0.0746 / 0.0518\n",
            "EPOCH: [113/200] BATCH: [19/20]\tLoss_D: 0.6549\tLoss_G: 2.0086\tD(x): 0.6387\tD(G(z)): 0.1650 / 0.1445\n",
            "EPOCH: [114/200] BATCH: [19/20]\tLoss_D: 1.1269\tLoss_G: 1.4862\tD(x): 0.3806\tD(G(z)): 0.1435 / 0.2276\n",
            "EPOCH: [115/200] BATCH: [19/20]\tLoss_D: 1.6053\tLoss_G: 2.3863\tD(x): 0.5263\tD(G(z)): 0.5683 / 0.0967\n",
            "EPOCH: [116/200] BATCH: [19/20]\tLoss_D: 0.8648\tLoss_G: 3.4870\tD(x): 0.8902\tD(G(z)): 0.5249 / 0.0355\n",
            "EPOCH: [117/200] BATCH: [19/20]\tLoss_D: 1.8150\tLoss_G: 2.9019\tD(x): 0.3501\tD(G(z)): 0.5094 / 0.0644\n",
            "EPOCH: [118/200] BATCH: [19/20]\tLoss_D: 1.4838\tLoss_G: 2.7880\tD(x): 0.4970\tD(G(z)): 0.4346 / 0.0631\n",
            "EPOCH: [119/200] BATCH: [19/20]\tLoss_D: 0.6278\tLoss_G: 2.7522\tD(x): 0.6604\tD(G(z)): 0.1788 / 0.0676\n",
            "EPOCH: [120/200] BATCH: [19/20]\tLoss_D: 0.8995\tLoss_G: 1.5935\tD(x): 0.5313\tD(G(z)): 0.2177 / 0.2158\n",
            "EPOCH: [121/200] BATCH: [19/20]\tLoss_D: 0.8958\tLoss_G: 2.2012\tD(x): 0.5321\tD(G(z)): 0.1839 / 0.1107\n",
            "EPOCH: [122/200] BATCH: [19/20]\tLoss_D: 1.1629\tLoss_G: 3.8008\tD(x): 0.8739\tD(G(z)): 0.5958 / 0.0364\n",
            "EPOCH: [123/200] BATCH: [19/20]\tLoss_D: 1.0548\tLoss_G: 3.1712\tD(x): 0.7365\tD(G(z)): 0.5136 / 0.0470\n",
            "EPOCH: [124/200] BATCH: [19/20]\tLoss_D: 0.4343\tLoss_G: 3.3509\tD(x): 0.9739\tD(G(z)): 0.3242 / 0.0458\n",
            "EPOCH: [125/200] BATCH: [19/20]\tLoss_D: 1.0196\tLoss_G: 3.0134\tD(x): 0.6430\tD(G(z)): 0.4364 / 0.0493\n",
            "EPOCH: [126/200] BATCH: [19/20]\tLoss_D: 3.0390\tLoss_G: 1.8419\tD(x): 0.0698\tD(G(z)): 0.1157 / 0.1649\n",
            "EPOCH: [127/200] BATCH: [19/20]\tLoss_D: 0.1326\tLoss_G: 3.2201\tD(x): 0.9542\tD(G(z)): 0.0815 / 0.0402\n",
            "EPOCH: [128/200] BATCH: [19/20]\tLoss_D: 0.2086\tLoss_G: 2.7713\tD(x): 0.9321\tD(G(z)): 0.1269 / 0.0627\n",
            "EPOCH: [129/200] BATCH: [19/20]\tLoss_D: 1.1878\tLoss_G: 3.7979\tD(x): 0.5403\tD(G(z)): 0.4266 / 0.0254\n",
            "EPOCH: [130/200] BATCH: [19/20]\tLoss_D: 0.5226\tLoss_G: 2.9249\tD(x): 0.7877\tD(G(z)): 0.2337 / 0.0701\n",
            "EPOCH: [131/200] BATCH: [19/20]\tLoss_D: 1.2303\tLoss_G: 1.9834\tD(x): 0.3563\tD(G(z)): 0.1231 / 0.1427\n",
            "EPOCH: [132/200] BATCH: [19/20]\tLoss_D: 0.6720\tLoss_G: 4.4753\tD(x): 0.9318\tD(G(z)): 0.4379 / 0.0155\n",
            "EPOCH: [133/200] BATCH: [19/20]\tLoss_D: 0.9780\tLoss_G: 2.3236\tD(x): 0.4876\tD(G(z)): 0.2235 / 0.0979\n",
            "EPOCH: [134/200] BATCH: [19/20]\tLoss_D: 0.8340\tLoss_G: 2.6973\tD(x): 0.5014\tD(G(z)): 0.0938 / 0.0756\n",
            "EPOCH: [135/200] BATCH: [19/20]\tLoss_D: 0.3154\tLoss_G: 3.0123\tD(x): 0.8528\tD(G(z)): 0.1368 / 0.0495\n",
            "EPOCH: [136/200] BATCH: [19/20]\tLoss_D: 0.4212\tLoss_G: 2.9146\tD(x): 0.8809\tD(G(z)): 0.2461 / 0.0582\n",
            "EPOCH: [137/200] BATCH: [19/20]\tLoss_D: 0.9266\tLoss_G: 4.1245\tD(x): 0.8310\tD(G(z)): 0.5213 / 0.0220\n",
            "EPOCH: [138/200] BATCH: [19/20]\tLoss_D: 1.8655\tLoss_G: 0.5597\tD(x): 0.1933\tD(G(z)): 0.1377 / 0.5758\n",
            "EPOCH: [139/200] BATCH: [19/20]\tLoss_D: 0.5216\tLoss_G: 2.3810\tD(x): 0.7271\tD(G(z)): 0.1800 / 0.0937\n",
            "EPOCH: [140/200] BATCH: [19/20]\tLoss_D: 1.8000\tLoss_G: 3.6856\tD(x): 0.5417\tD(G(z)): 0.6575 / 0.0342\n",
            "EPOCH: [141/200] BATCH: [19/20]\tLoss_D: 0.7189\tLoss_G: 3.0086\tD(x): 0.8510\tD(G(z)): 0.3926 / 0.0552\n",
            "EPOCH: [142/200] BATCH: [19/20]\tLoss_D: 1.1090\tLoss_G: 1.9075\tD(x): 0.5089\tD(G(z)): 0.2924 / 0.1666\n",
            "EPOCH: [143/200] BATCH: [19/20]\tLoss_D: 1.3330\tLoss_G: 2.0817\tD(x): 0.3360\tD(G(z)): 0.2144 / 0.1300\n",
            "EPOCH: [144/200] BATCH: [19/20]\tLoss_D: 0.4156\tLoss_G: 2.9262\tD(x): 0.8997\tD(G(z)): 0.2488 / 0.0562\n",
            "EPOCH: [145/200] BATCH: [19/20]\tLoss_D: 0.1640\tLoss_G: 3.0236\tD(x): 0.9391\tD(G(z)): 0.0946 / 0.0515\n",
            "EPOCH: [146/200] BATCH: [19/20]\tLoss_D: 1.8753\tLoss_G: 3.9311\tD(x): 0.3572\tD(G(z)): 0.5278 / 0.0583\n",
            "EPOCH: [147/200] BATCH: [19/20]\tLoss_D: 1.2555\tLoss_G: 2.2057\tD(x): 0.5844\tD(G(z)): 0.4972 / 0.1771\n",
            "EPOCH: [148/200] BATCH: [19/20]\tLoss_D: 0.4455\tLoss_G: 3.1558\tD(x): 0.9588\tD(G(z)): 0.3212 / 0.0426\n",
            "EPOCH: [149/200] BATCH: [19/20]\tLoss_D: 0.4605\tLoss_G: 2.4212\tD(x): 0.8075\tD(G(z)): 0.2133 / 0.0898\n",
            "EPOCH: [150/200] BATCH: [19/20]\tLoss_D: 0.3243\tLoss_G: 3.5747\tD(x): 0.9812\tD(G(z)): 0.2581 / 0.0281\n",
            "EPOCH: [151/200] BATCH: [19/20]\tLoss_D: 1.2989\tLoss_G: 2.4781\tD(x): 0.6200\tD(G(z)): 0.4070 / 0.0918\n",
            "EPOCH: [152/200] BATCH: [19/20]\tLoss_D: 0.3960\tLoss_G: 3.4524\tD(x): 0.9041\tD(G(z)): 0.2454 / 0.0377\n",
            "EPOCH: [153/200] BATCH: [19/20]\tLoss_D: 0.5569\tLoss_G: 2.8498\tD(x): 0.6563\tD(G(z)): 0.1225 / 0.0728\n",
            "EPOCH: [154/200] BATCH: [19/20]\tLoss_D: 0.5550\tLoss_G: 3.3576\tD(x): 0.9034\tD(G(z)): 0.3462 / 0.0386\n",
            "EPOCH: [155/200] BATCH: [19/20]\tLoss_D: 1.0967\tLoss_G: 1.6251\tD(x): 0.4097\tD(G(z)): 0.1272 / 0.1999\n",
            "EPOCH: [156/200] BATCH: [19/20]\tLoss_D: 0.6308\tLoss_G: 2.7209\tD(x): 0.6821\tD(G(z)): 0.2015 / 0.0677\n",
            "EPOCH: [157/200] BATCH: [19/20]\tLoss_D: 0.3102\tLoss_G: 2.6918\tD(x): 0.8440\tD(G(z)): 0.1230 / 0.0700\n",
            "EPOCH: [158/200] BATCH: [19/20]\tLoss_D: 0.3809\tLoss_G: 3.1955\tD(x): 0.8470\tD(G(z)): 0.1910 / 0.0502\n",
            "EPOCH: [159/200] BATCH: [19/20]\tLoss_D: 1.2070\tLoss_G: 4.4344\tD(x): 0.9236\tD(G(z)): 0.6141 / 0.0153\n",
            "EPOCH: [160/200] BATCH: [19/20]\tLoss_D: 0.6307\tLoss_G: 2.7091\tD(x): 0.7420\tD(G(z)): 0.2784 / 0.0736\n",
            "EPOCH: [161/200] BATCH: [19/20]\tLoss_D: 0.2387\tLoss_G: 3.3632\tD(x): 0.9258\tD(G(z)): 0.1483 / 0.0347\n",
            "EPOCH: [162/200] BATCH: [19/20]\tLoss_D: 0.6819\tLoss_G: 1.9096\tD(x): 0.6072\tD(G(z)): 0.1605 / 0.1553\n",
            "EPOCH: [163/200] BATCH: [19/20]\tLoss_D: 0.3837\tLoss_G: 3.0993\tD(x): 0.9353\tD(G(z)): 0.2713 / 0.0452\n",
            "EPOCH: [164/200] BATCH: [19/20]\tLoss_D: 0.9057\tLoss_G: 1.9123\tD(x): 0.5603\tD(G(z)): 0.2648 / 0.1498\n",
            "EPOCH: [165/200] BATCH: [19/20]\tLoss_D: 0.8831\tLoss_G: 2.7497\tD(x): 0.6524\tD(G(z)): 0.3276 / 0.0649\n",
            "EPOCH: [166/200] BATCH: [19/20]\tLoss_D: 0.4982\tLoss_G: 3.2795\tD(x): 0.8226\tD(G(z)): 0.2532 / 0.0385\n",
            "EPOCH: [167/200] BATCH: [19/20]\tLoss_D: 0.7723\tLoss_G: 3.7370\tD(x): 0.7624\tD(G(z)): 0.3617 / 0.0479\n",
            "EPOCH: [168/200] BATCH: [19/20]\tLoss_D: 0.3689\tLoss_G: 3.4874\tD(x): 0.9245\tD(G(z)): 0.2364 / 0.0310\n",
            "EPOCH: [169/200] BATCH: [19/20]\tLoss_D: 0.3456\tLoss_G: 3.1526\tD(x): 0.9559\tD(G(z)): 0.2595 / 0.0453\n",
            "EPOCH: [170/200] BATCH: [19/20]\tLoss_D: 0.9342\tLoss_G: 2.7386\tD(x): 0.5390\tD(G(z)): 0.2513 / 0.0694\n",
            "EPOCH: [171/200] BATCH: [19/20]\tLoss_D: 0.7052\tLoss_G: 4.2444\tD(x): 0.8600\tD(G(z)): 0.4059 / 0.0236\n",
            "EPOCH: [172/200] BATCH: [19/20]\tLoss_D: 1.3473\tLoss_G: 5.1260\tD(x): 0.6919\tD(G(z)): 0.5842 / 0.0122\n",
            "EPOCH: [173/200] BATCH: [19/20]\tLoss_D: 1.1051\tLoss_G: 4.8036\tD(x): 0.8688\tD(G(z)): 0.6158 / 0.0302\n",
            "EPOCH: [174/200] BATCH: [19/20]\tLoss_D: 1.2282\tLoss_G: 2.9203\tD(x): 0.4797\tD(G(z)): 0.3236 / 0.0637\n",
            "EPOCH: [175/200] BATCH: [19/20]\tLoss_D: 1.0015\tLoss_G: 4.7557\tD(x): 0.9495\tD(G(z)): 0.5974 / 0.0086\n",
            "EPOCH: [176/200] BATCH: [19/20]\tLoss_D: 0.8096\tLoss_G: 3.5384\tD(x): 0.8237\tD(G(z)): 0.4290 / 0.1360\n",
            "EPOCH: [177/200] BATCH: [19/20]\tLoss_D: 1.5944\tLoss_G: 1.0984\tD(x): 0.3061\tD(G(z)): 0.1927 / 0.3343\n",
            "EPOCH: [178/200] BATCH: [19/20]\tLoss_D: 1.0267\tLoss_G: 3.1037\tD(x): 0.5778\tD(G(z)): 0.3293 / 0.0449\n",
            "EPOCH: [179/200] BATCH: [19/20]\tLoss_D: 0.4156\tLoss_G: 3.4203\tD(x): 0.8927\tD(G(z)): 0.2471 / 0.0401\n",
            "EPOCH: [180/200] BATCH: [19/20]\tLoss_D: 0.6144\tLoss_G: 3.4790\tD(x): 0.9216\tD(G(z)): 0.3910 / 0.0309\n",
            "EPOCH: [181/200] BATCH: [19/20]\tLoss_D: 0.9433\tLoss_G: 2.4742\tD(x): 0.4657\tD(G(z)): 0.0798 / 0.0945\n",
            "EPOCH: [182/200] BATCH: [19/20]\tLoss_D: 0.8998\tLoss_G: 2.2086\tD(x): 0.5321\tD(G(z)): 0.1923 / 0.1530\n",
            "EPOCH: [183/200] BATCH: [19/20]\tLoss_D: 0.6340\tLoss_G: 3.2482\tD(x): 0.7761\tD(G(z)): 0.3036 / 0.0623\n",
            "EPOCH: [184/200] BATCH: [19/20]\tLoss_D: 1.4774\tLoss_G: 4.1385\tD(x): 0.6375\tD(G(z)): 0.4883 / 0.0731\n",
            "EPOCH: [185/200] BATCH: [19/20]\tLoss_D: 0.3001\tLoss_G: 3.1575\tD(x): 0.8737\tD(G(z)): 0.1458 / 0.0435\n",
            "EPOCH: [186/200] BATCH: [19/20]\tLoss_D: 1.5152\tLoss_G: 1.9909\tD(x): 0.2829\tD(G(z)): 0.0896 / 0.1370\n",
            "EPOCH: [187/200] BATCH: [19/20]\tLoss_D: 1.5545\tLoss_G: 3.3383\tD(x): 0.3864\tD(G(z)): 0.4412 / 0.0516\n",
            "EPOCH: [188/200] BATCH: [19/20]\tLoss_D: 0.8142\tLoss_G: 3.6877\tD(x): 0.7429\tD(G(z)): 0.3666 / 0.0322\n",
            "EPOCH: [189/200] BATCH: [19/20]\tLoss_D: 0.4753\tLoss_G: 3.1774\tD(x): 0.8008\tD(G(z)): 0.2087 / 0.0420\n",
            "EPOCH: [190/200] BATCH: [19/20]\tLoss_D: 1.0171\tLoss_G: 2.8127\tD(x): 0.5465\tD(G(z)): 0.3316 / 0.0601\n",
            "EPOCH: [191/200] BATCH: [19/20]\tLoss_D: 0.4747\tLoss_G: 3.1870\tD(x): 0.9063\tD(G(z)): 0.3091 / 0.0435\n",
            "EPOCH: [192/200] BATCH: [19/20]\tLoss_D: 0.8432\tLoss_G: 3.7950\tD(x): 0.7572\tD(G(z)): 0.4150 / 0.0328\n",
            "EPOCH: [193/200] BATCH: [19/20]\tLoss_D: 0.8163\tLoss_G: 3.4847\tD(x): 0.6207\tD(G(z)): 0.2562 / 0.0334\n",
            "EPOCH: [194/200] BATCH: [19/20]\tLoss_D: 0.6215\tLoss_G: 4.0159\tD(x): 0.9358\tD(G(z)): 0.4235 / 0.0186\n",
            "EPOCH: [195/200] BATCH: [19/20]\tLoss_D: 0.7978\tLoss_G: 1.1974\tD(x): 0.5383\tD(G(z)): 0.1122 / 0.3028\n",
            "EPOCH: [196/200] BATCH: [19/20]\tLoss_D: 0.5549\tLoss_G: 3.7802\tD(x): 0.8303\tD(G(z)): 0.2928 / 0.0476\n",
            "EPOCH: [197/200] BATCH: [19/20]\tLoss_D: 1.2134\tLoss_G: 1.7250\tD(x): 0.4114\tD(G(z)): 0.2698 / 0.1796\n",
            "EPOCH: [198/200] BATCH: [19/20]\tLoss_D: 0.8010\tLoss_G: 2.5480\tD(x): 0.6398\tD(G(z)): 0.2954 / 0.0825\n",
            "EPOCH: [199/200] BATCH: [19/20]\tLoss_D: 0.4700\tLoss_G: 3.1366\tD(x): 0.8767\tD(G(z)): 0.2804 / 0.0457\n"
          ],
          "name": "stdout"
        }
      ]
    },
    {
      "cell_type": "markdown",
      "metadata": {
        "id": "V4RRxrETkemZ",
        "colab_type": "text"
      },
      "source": [
        "## Results Review"
      ]
    },
    {
      "cell_type": "markdown",
      "metadata": {
        "id": "oyJNGS4Ikeme",
        "colab_type": "text"
      },
      "source": [
        "### Batch of real vs fake images"
      ]
    },
    {
      "cell_type": "code",
      "metadata": {
        "id": "UTdq7hARkeme",
        "colab_type": "code",
        "outputId": "794fc6b0-d2ba-4f70-e6b7-df85f2640e8e",
        "colab": {
          "base_uri": "https://localhost:8080/",
          "height": 411
        }
      },
      "source": [
        "# makes the image list\n",
        "with torch.no_grad():\n",
        "    fake = netG(fixed_noise).detach().cpu()\n",
        "img_list.append(vutils.make_grid(fake[:16], padding=2, normalize=True, nrow=4))\n",
        "\n",
        "# Grab a batch of real images from the dataloader\n",
        "real_batch = next(iter(dataloader))\n",
        "\n",
        "# Plot the real images\n",
        "plt.figure(figsize=(15, 15))\n",
        "plt.subplot(1, 2, 1)\n",
        "plt.axis(\"off\")\n",
        "plt.imshow(np.transpose(vutils.make_grid(real_batch[0].to(device)[:16], padding=2, normalize=True, nrow=4).cpu(),(1, 2, 0)))\n",
        "\n",
        "# Plot the fake images from the last epoch\n",
        "plt.subplot(1, 2, 2)\n",
        "plt.axis(\"off\")\n",
        "plt.imshow(np.transpose(img_list[-1], (1, 2, 0)))\n",
        "plt.show()"
      ],
      "execution_count": 15,
      "outputs": [
        {
          "output_type": "display_data",
          "data": {
            "image/png": "[encoded data removed]",
            "text/plain": [
              "<Figure size 1080x1080 with 2 Axes>"
            ]
          },
          "metadata": {
            "tags": [],
            "needs_background": "light"
          }
        }
      ]
    },
    {
      "cell_type": "markdown",
      "metadata": {
        "id": "yaVgB6vAkemg",
        "colab_type": "text"
      },
      "source": [
        "### A random image"
      ]
    },
    {
      "cell_type": "code",
      "metadata": {
        "id": "7pdFQKFYkemg",
        "colab_type": "code",
        "outputId": "f31eaeaa-b3b2-4cb1-ab15-f3db87b6e1b5",
        "colab": {
          "base_uri": "https://localhost:8080/",
          "height": 282
        }
      },
      "source": [
        "# helper function for converting images to a normal range\n",
        "def img_scale(img_tensor):\n",
        "    min_value = img_tensor.min()\n",
        "    span = img_tensor.max() - img_tensor.min()\n",
        "    img_tensor = (img_tensor - min_value) / span\n",
        "    img_tensor = np.transpose(img_tensor)\n",
        "\n",
        "    return img_tensor\n",
        "\n",
        "noise = torch.randn(b_size, GEN_INPUT_SIZE, 1, 1, device=device)\n",
        "output = netG(noise).detach().cpu()\n",
        "plt.imshow(img_scale(output[0]))"
      ],
      "execution_count": 16,
      "outputs": [
        {
          "output_type": "execute_result",
          "data": {
            "text/plain": [
              "<matplotlib.image.AxesImage at 0x7f7605301358>"
            ]
          },
          "metadata": {
            "tags": []
          },
          "execution_count": 16
        },
        {
          "output_type": "display_data",
          "data": {
            "image/png": "[encoded data removed]",
            "text/plain": [
              "<Figure size 432x288 with 1 Axes>"
            ]
          },
          "metadata": {
            "tags": [],
            "needs_background": "light"
          }
        }
      ]
    }
  ]
}