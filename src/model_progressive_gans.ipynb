{
  "nbformat": 4,
  "nbformat_minor": 0,
  "metadata": {
    "kernelspec": {
      "name": "python3",
      "display_name": "Python 3"
    },
    "language_info": {
      "codemirror_mode": {
        "name": "ipython",
        "version": 3
      },
      "file_extension": ".py",
      "mimetype": "text/x-python",
      "name": "python",
      "nbconvert_exporter": "python",
      "pygments_lexer": "ipython3",
      "version": "3.8.2"
    },
    "colab": {
      "name": "art_generator.ipynb",
      "provenance": [],
      "toc_visible": true,
      "machine_shape": "hm"
    },
    "accelerator": "GPU"
  },
  "cells": [
    {
      "cell_type": "markdown",
      "metadata": {
        "id": "pqQ6HpDJkelz",
        "colab_type": "text"
      },
      "source": [
        "# Progressive GANS \n"
      ]
    },
    {
      "cell_type": "markdown",
      "metadata": {
        "id": "LYSbED0xRbHb",
        "colab_type": "text"
      },
      "source": [
        "This is a Progressive GANS model inspired by https://research.nvidia.com/publication/2017-10_Progressive-Growing-of"
      ]
    },
    {
      "cell_type": "code",
      "metadata": {
        "id": "Pb6NFch4kelz",
        "colab_type": "code",
        "colab": {}
      },
      "source": [
        "# https://pytorch.org/tutorials/beginner/dcgan_faces_tutorial.html\n",
        "\n",
        "from __future__ import print_function\n",
        "import argparse\n",
        "import os\n",
        "import random\n",
        "import numpy as np\n",
        "import matplotlib.pyplot as plt\n",
        "import matplotlib.animation as animation\n",
        "from IPython.display import HTML\n",
        "\n",
        "import torch\n",
        "import torch.nn as nn\n",
        "import torch.nn.parallel\n",
        "import torch.backends.cudnn as cudnn\n",
        "import torch.optim as optim\n",
        "import torch.utils.data\n",
        "from torch.utils.tensorboard import SummaryWriter\n",
        "\n",
        "import torchvision\n",
        "import torchvision.datasets as dset\n",
        "import torchvision.transforms as transforms\n",
        "import torchvision.utils as vutils\n",
        "\n",
        "%matplotlib inline"
      ],
      "execution_count": 0,
      "outputs": []
    },
    {
      "cell_type": "code",
      "metadata": {
        "id": "ivag9g9soyQ1",
        "colab_type": "code",
        "outputId": "ee9f0832-e777-451f-bf3e-eb31e16d8bfc",
        "colab": {
          "base_uri": "https://localhost:8080/",
          "height": 34
        }
      },
      "source": [
        "# mounts the google drive\n",
        "from google.colab import drive\n",
        "drive.mount('/content/drive')"
      ],
      "execution_count": 2,
      "outputs": [
        {
          "output_type": "stream",
          "text": [
            "Drive already mounted at /content/drive; to attempt to forcibly remount, call drive.mount(\"/content/drive\", force_remount=True).\n"
          ],
          "name": "stdout"
        }
      ]
    },
    {
      "cell_type": "markdown",
      "metadata": {
        "id": "P-xs0kl5kel3",
        "colab_type": "text"
      },
      "source": [
        "## Parameters"
      ]
    },
    {
      "cell_type": "code",
      "metadata": {
        "id": "lXtmNIKekel3",
        "colab_type": "code",
        "colab": {}
      },
      "source": [
        "# Set random seed for reproducibility\n",
        "SEED = 0\n",
        "random.seed(SEED)\n",
        "torch.manual_seed(SEED)\n",
        "\n",
        "# images\n",
        "DATA_DIR = '/content/drive/My Drive/repos'\n",
        "IMG_DIR = DATA_DIR + '/art_generator/data_raw/'\n",
        "IMG_SIZE = 16\n",
        "N_CHANNELS = 3\n",
        "\n",
        "# graph\n",
        "GEN_INPUT_SIZE = 100\n",
        "N_LAYERS = int(np.log(IMG_SIZE) / np.log(2)) - 1\n",
        "N_GEN_CHANNELS = 32\n",
        "N_DISC_CHANNELS = 32\n",
        "beta1 = 0.5\n",
        "\n",
        "# training\n",
        "N_EPOCHS = 200\n",
        "LR = 0.0002\n",
        "N_WORKERS = 2\n",
        "BATCH_SIZE = 16\n",
        "ngpu = 1\n",
        "\n",
        "# checkpoints and logs\n",
        "LOAD_CHECKPOINT = False # False will overwrite the existing checkpoint\n",
        "CHECKPOINT_PTH = DATA_DIR + '/art_generator/data_out/model_checkpoints/checkpoint_1.pt'\n",
        "LOGDIR = DATA_DIR + '/art_generator/data_out/logs/size-' + str(IMG_SIZE)"
      ],
      "execution_count": 0,
      "outputs": []
    },
    {
      "cell_type": "code",
      "metadata": {
        "id": "z3sttqBXetzF",
        "colab_type": "code",
        "colab": {
          "base_uri": "https://localhost:8080/",
          "height": 34
        },
        "outputId": "89dd0874-b119-4dd9-d040-4797f0e68bb3"
      },
      "source": [
        "N_LAYERS"
      ],
      "execution_count": 4,
      "outputs": [
        {
          "output_type": "execute_result",
          "data": {
            "text/plain": [
              "3"
            ]
          },
          "metadata": {
            "tags": []
          },
          "execution_count": 4
        }
      ]
    },
    {
      "cell_type": "markdown",
      "metadata": {
        "id": "SswUiXZHkel6",
        "colab_type": "text"
      },
      "source": [
        "### Dataloader"
      ]
    },
    {
      "cell_type": "code",
      "metadata": {
        "id": "xWL_raiPkel6",
        "colab_type": "code",
        "outputId": "bf41e074-1e37-4006-8581-560c0c772187",
        "colab": {
          "base_uri": "https://localhost:8080/",
          "height": 34
        }
      },
      "source": [
        "# We can use an image folder dataset the way we have it setup.\n",
        "# Create the dataset\n",
        "dataset = dset.ImageFolder(root=IMG_DIR,\n",
        "                           transform=transforms.Compose([\n",
        "                               transforms.Resize(IMG_SIZE),\n",
        "                               transforms.RandomHorizontalFlip(p=0.5),\n",
        "                               transforms.RandomVerticalFlip(p=0.5),\n",
        "                               transforms.CenterCrop(IMG_SIZE),\n",
        "                               transforms.ToTensor(),\n",
        "                               transforms.Normalize((0.5, 0.5, 0.5), (0.5, 0.5, 0.5)),\n",
        "                           ]))\n",
        "# Create the dataloader\n",
        "dataloader = torch.utils.data.DataLoader(dataset, batch_size=BATCH_SIZE, shuffle=True, num_workers=N_WORKERS)\n",
        "\n",
        "print('Size of dataset: ' + str(len(dataloader.dataset.samples)))"
      ],
      "execution_count": 5,
      "outputs": [
        {
          "output_type": "stream",
          "text": [
            "Size of dataset: 316\n"
          ],
          "name": "stdout"
        }
      ]
    },
    {
      "cell_type": "code",
      "metadata": {
        "id": "0tOFSMIukel9",
        "colab_type": "code",
        "colab": {}
      },
      "source": [
        "# Decide which device we want to run on\n",
        "device = torch.device(\"cuda:0\" if (torch.cuda.is_available() and ngpu > 0) else \"cpu\")"
      ],
      "execution_count": 0,
      "outputs": []
    },
    {
      "cell_type": "code",
      "metadata": {
        "id": "KjETDy6Rkel_",
        "colab_type": "code",
        "outputId": "746518cd-38a0-4cb1-c5c9-44676ad6a3a5",
        "colab": {
          "base_uri": "https://localhost:8080/",
          "height": 879
        }
      },
      "source": [
        "# Plot some training images\n",
        "real_batch = next(iter(dataloader))\n",
        "plt.figure(figsize=(15, 15))\n",
        "plt.axis(\"off\")\n",
        "plt.title(\"Training Images\")\n",
        "plt.imshow(np.transpose(vutils.make_grid(real_batch[0].to(device)[:64], padding=2, normalize=True, nrow=4).cpu(),(1,2,0)))"
      ],
      "execution_count": 7,
      "outputs": [
        {
          "output_type": "execute_result",
          "data": {
            "text/plain": [
              "<matplotlib.image.AxesImage at 0x7ffb80b90fd0>"
            ]
          },
          "metadata": {
            "tags": []
          },
          "execution_count": 7
        },
        {
          "output_type": "display_data",
          "data": {
            "image/png": "[encoded data removed]",
            "text/plain": [
              "<Figure size 1080x1080 with 1 Axes>"
            ]
          },
          "metadata": {
            "tags": [],
            "needs_background": "light"
          }
        }
      ]
    },
    {
      "cell_type": "code",
      "metadata": {
        "id": "ayq_2-OOkemC",
        "colab_type": "code",
        "colab": {}
      },
      "source": [
        "# custom weights initialization called on netG and netD\n",
        "def weights_init(m):\n",
        "    classname = m.__class__.__name__\n",
        "    if classname.find('Conv') != -1:\n",
        "        nn.init.normal_(m.weight.data, 0.0, 0.02)\n",
        "    elif classname.find('BatchNorm') != -1:\n",
        "        nn.init.normal_(m.weight.data, 1.0, 0.02)\n",
        "        nn.init.constant_(m.bias.data, 0)"
      ],
      "execution_count": 0,
      "outputs": []
    },
    {
      "cell_type": "markdown",
      "metadata": {
        "id": "s0mPh4Q2kemE",
        "colab_type": "text"
      },
      "source": [
        "## Models"
      ]
    },
    {
      "cell_type": "markdown",
      "metadata": {
        "id": "e64hmVh4kemF",
        "colab_type": "text"
      },
      "source": [
        "### Generator"
      ]
    },
    {
      "cell_type": "code",
      "metadata": {
        "id": "C6sXkZy7kemF",
        "colab_type": "code",
        "colab": {}
      },
      "source": [
        "class Generator(nn.Module):\n",
        "    def __init__(self, ngpu, n_layers):\n",
        "        super(Generator, self).__init__()\n",
        "        self.ngpu = ngpu\n",
        "        self.n_layers = n_layers\n",
        "\n",
        "        self.layers = nn.ModuleList([nn.ConvTranspose2d(GEN_INPUT_SIZE, N_GEN_CHANNELS * 2, 4, 1, 0, bias=False)])\n",
        "        self.layers.extend([nn.ConvTranspose2d(N_GEN_CHANNELS * 2, N_GEN_CHANNELS * 2, 4, 2, 1, bias=False) for i in range(self.n_layers - 3)])\n",
        "        self.layers.extend([nn.ConvTranspose2d(N_GEN_CHANNELS * 2, N_GEN_CHANNELS, 4, 2, 1, bias=False),\n",
        "                            nn.ConvTranspose2d(N_GEN_CHANNELS, N_CHANNELS, 4, 2, 1, bias=False)])                   \n",
        "                           \n",
        "        self.batch1 = nn.BatchNorm2d(N_GEN_CHANNELS)\n",
        "        self.batch2 = nn.BatchNorm2d(N_GEN_CHANNELS * 2)\n",
        "\n",
        "        self.relu = nn.ReLU(True)\n",
        "        self.tanh = nn.Tanh()\n",
        "\n",
        "    def forward(self, x):\n",
        "        for i, name in enumerate(self.layers):\n",
        "            x = self.layers[i](x)\n",
        "\n",
        "            if self.layers[i].out_channels == N_GEN_CHANNELS * 2:\n",
        "                x = self.batch2(x)\n",
        "                x = self.relu(x)\n",
        "            elif self.layers[i].out_channels == N_GEN_CHANNELS:\n",
        "                x = self.batch1(x)\n",
        "                x = self.relu(x)\n",
        "            else:\n",
        "                x = self.tanh(x)\n",
        "\n",
        "        return x"
      ],
      "execution_count": 0,
      "outputs": []
    },
    {
      "cell_type": "code",
      "metadata": {
        "id": "Pi8ZQ97gkemI",
        "colab_type": "code",
        "outputId": "f96176c7-379a-459a-ef2e-c47b134d3579",
        "colab": {
          "base_uri": "https://localhost:8080/",
          "height": 204
        }
      },
      "source": [
        "# Create the generator\n",
        "netG = Generator(ngpu, N_LAYERS).to(device)\n",
        "\n",
        "# Handle multi-gpu if desired\n",
        "if (device.type == 'cuda') and (ngpu > 1):\n",
        "    netG = nn.DataParallel(netG, list(range(ngpu)))\n",
        "\n",
        "# Apply the weights_init function to randomly initialize all weights\n",
        "#  to mean=0, stdev=0.2.\n",
        "netG.apply(weights_init)"
      ],
      "execution_count": 10,
      "outputs": [
        {
          "output_type": "execute_result",
          "data": {
            "text/plain": [
              "Generator(\n",
              "  (layers): ModuleList(\n",
              "    (0): ConvTranspose2d(100, 64, kernel_size=(4, 4), stride=(1, 1), bias=False)\n",
              "    (1): ConvTranspose2d(64, 32, kernel_size=(4, 4), stride=(2, 2), padding=(1, 1), bias=False)\n",
              "    (2): ConvTranspose2d(32, 3, kernel_size=(4, 4), stride=(2, 2), padding=(1, 1), bias=False)\n",
              "  )\n",
              "  (batch1): BatchNorm2d(32, eps=1e-05, momentum=0.1, affine=True, track_running_stats=True)\n",
              "  (batch2): BatchNorm2d(64, eps=1e-05, momentum=0.1, affine=True, track_running_stats=True)\n",
              "  (relu): ReLU(inplace=True)\n",
              "  (tanh): Tanh()\n",
              ")"
            ]
          },
          "metadata": {
            "tags": []
          },
          "execution_count": 10
        }
      ]
    },
    {
      "cell_type": "code",
      "metadata": {
        "id": "jKRiaEWPkemK",
        "colab_type": "code",
        "colab": {}
      },
      "source": [
        "class Discriminator(nn.Module):\n",
        "    def __init__(self, ngpu, n_layers):\n",
        "        super(Discriminator, self).__init__()\n",
        "        self.ngpu = ngpu\n",
        "        self.n_layers = n_layers\n",
        "\n",
        "        self.layers = nn.ModuleList([nn.Conv2d(N_CHANNELS, N_DISC_CHANNELS * 2, 4, 2, 1, bias=False)])\n",
        "        self.layers.extend([nn.Conv2d(N_DISC_CHANNELS * 2, N_DISC_CHANNELS * 2, 4, 2, 1, bias=False) for i in range(self.n_layers - 2)])\n",
        "        self.layers.append(nn.Conv2d(N_DISC_CHANNELS * 2, 1, 4, 1, 0, bias=False))\n",
        "                           \n",
        "        self.batch2 = nn.BatchNorm2d(N_DISC_CHANNELS * 2)\n",
        "\n",
        "        self.LeakyReLU = nn.LeakyReLU(0.2)\n",
        "        self.sigmoid = nn.Sigmoid()\n",
        "\n",
        "\n",
        "    def forward(self, x):\n",
        "\n",
        "        for i, name in enumerate(self.layers):\n",
        "            x = self.layers[i](x)\n",
        "\n",
        "            if i == 0:\n",
        "                x = self.LeakyReLU(x)            \n",
        "            elif self.layers[i].out_channels == N_DISC_CHANNELS * 2:\n",
        "                x = self.batch2(x)\n",
        "                x = self.LeakyReLU(x)\n",
        "            else:\n",
        "                x = self.sigmoid(x)\n",
        "\n",
        "        return x"
      ],
      "execution_count": 0,
      "outputs": []
    },
    {
      "cell_type": "code",
      "metadata": {
        "id": "n9fOj2jHkemM",
        "colab_type": "code",
        "outputId": "efef7866-5aed-4fb2-807d-6520577aafce",
        "colab": {
          "base_uri": "https://localhost:8080/",
          "height": 187
        }
      },
      "source": [
        "# Create the Discriminator\n",
        "netD = Discriminator(ngpu, N_LAYERS).to(device)\n",
        "\n",
        "# Handle multi-gpu if desired\n",
        "if (device.type == 'cuda') and (ngpu > 1):\n",
        "    netD = nn.DataParallel(netD, list(range(ngpu)))\n",
        "\n",
        "# Apply the weights_init function to randomly initialize all weights\n",
        "#  to mean=0, stdev=0.2.\n",
        "netD.apply(weights_init)"
      ],
      "execution_count": 12,
      "outputs": [
        {
          "output_type": "execute_result",
          "data": {
            "text/plain": [
              "Discriminator(\n",
              "  (layers): ModuleList(\n",
              "    (0): Conv2d(3, 64, kernel_size=(4, 4), stride=(2, 2), padding=(1, 1), bias=False)\n",
              "    (1): Conv2d(64, 64, kernel_size=(4, 4), stride=(2, 2), padding=(1, 1), bias=False)\n",
              "    (2): Conv2d(64, 1, kernel_size=(4, 4), stride=(1, 1), bias=False)\n",
              "  )\n",
              "  (batch2): BatchNorm2d(64, eps=1e-05, momentum=0.1, affine=True, track_running_stats=True)\n",
              "  (LeakyReLU): LeakyReLU(negative_slope=0.2)\n",
              "  (sigmoid): Sigmoid()\n",
              ")"
            ]
          },
          "metadata": {
            "tags": []
          },
          "execution_count": 12
        }
      ]
    },
    {
      "cell_type": "markdown",
      "metadata": {
        "id": "rmobenkbkemQ",
        "colab_type": "text"
      },
      "source": [
        "### Loss functions and optimizers"
      ]
    },
    {
      "cell_type": "code",
      "metadata": {
        "id": "QLMIkppNkemQ",
        "colab_type": "code",
        "colab": {}
      },
      "source": [
        "# Initialize BCELoss function\n",
        "criterion = nn.BCELoss()\n",
        "\n",
        "# Create batch of latent vectors that we will use to visualize\n",
        "#  the progression of the generator\n",
        "fixed_noise = torch.randn(64, GEN_INPUT_SIZE, 1, 1, device=device)\n",
        "\n",
        "# Establish convention for real and fake labels during training\n",
        "real_label = 1\n",
        "fake_label = 0\n",
        "\n",
        "# Setup Adam optimizers for both G and D\n",
        "optimizerD = optim.Adam(netD.parameters(), lr=LR, betas=(beta1, 0.999))\n",
        "optimizerG = optim.Adam(netG.parameters(), lr=LR, betas=(beta1, 0.999))"
      ],
      "execution_count": 0,
      "outputs": []
    },
    {
      "cell_type": "markdown",
      "metadata": {
        "id": "VZeI-7TkkemS",
        "colab_type": "text"
      },
      "source": [
        "### Loads Checkpoint"
      ]
    },
    {
      "cell_type": "code",
      "metadata": {
        "id": "EX9iLuK9kemT",
        "colab_type": "code",
        "colab": {}
      },
      "source": [
        "if LOAD_CHECKPOINT:\n",
        "    # loads the model weights\n",
        "    checkpoint = torch.load(CHECKPOINT_PTH)\n",
        "    netG.load_state_dict(checkpoint['netG_state'])\n",
        "    optimizerG.load_state_dict(checkpoint['optimizerG'])\n",
        "    netD.load_state_dict(checkpoint['netD_state'])\n",
        "    optimizerD.load_state_dict(checkpoint['optimizerD'])\n",
        "    print('Checkpoint Loaded')\n",
        "    \n",
        "    # loads the epoch counter\n",
        "    with open(LOGDIR + '/itercount.txt', 'r') as f:\n",
        "        epoch_counter = int(f.read())\n",
        "else:\n",
        "    epoch_counter = 0"
      ],
      "execution_count": 0,
      "outputs": []
    },
    {
      "cell_type": "markdown",
      "metadata": {
        "id": "EXv7nj8SkemV",
        "colab_type": "text"
      },
      "source": [
        "## Training"
      ]
    },
    {
      "cell_type": "code",
      "metadata": {
        "id": "3jqlD8b4kemV",
        "colab_type": "code",
        "outputId": "89c24a1a-1403-47b7-c66b-8a5ee8c406da",
        "colab": {
          "base_uri": "https://localhost:8080/",
          "height": 1000
        }
      },
      "source": [
        "# Training Loop\n",
        "writer = SummaryWriter(LOGDIR)\n",
        "\n",
        "# Lists to keep track of progress\n",
        "img_list = []\n",
        "iters = 0\n",
        "\n",
        "print(\"Starting Training Loop...\")\n",
        "# For each epoch\n",
        "for epoch in range(N_EPOCHS):\n",
        "    # For each batch in the dataloader\n",
        "    for i, data in enumerate(dataloader, 0):\n",
        "\n",
        "        ############################\n",
        "        # (1) Update D network: maximize log(D(x)) + log(1 - D(G(z)))\n",
        "        ###########################\n",
        "        ## Train with all-real batch\n",
        "        netD.zero_grad()\n",
        "        \n",
        "        # Format batch\n",
        "        real_cpu = data[0].to(device)\n",
        "        b_size = real_cpu.size(0)\n",
        "        label = torch.full((b_size,), real_label, device=device)\n",
        "\n",
        "        # Forward pass real batch through D\n",
        "        output = netD(real_cpu).view(-1)\n",
        "        # Calculate loss on all-real batch\n",
        "        errD_real = criterion(output, label)\n",
        "        # Calculate gradients for D in backward pass\n",
        "        errD_real.backward()\n",
        "        D_x = output.mean().item()\n",
        "\n",
        "        ## Train with all-fake batch\n",
        "        # Generate batch of latent vectors\n",
        "        noise = torch.randn(b_size, GEN_INPUT_SIZE, 1, 1, device=device)\n",
        "        # Generate fake image batch with G\n",
        "        fake = netG(noise)\n",
        "        label.fill_(fake_label)\n",
        "        # Classify all fake batch with D\n",
        "        output = netD(fake.detach()).view(-1)\n",
        "        # Calculate D's loss on the all-fake batch\n",
        "        errD_fake = criterion(output, label)\n",
        "        # Calculate the gradients for this batch\n",
        "        errD_fake.backward()\n",
        "        D_G_z1 = output.mean().item()\n",
        "        # Add the gradients from the all-real and all-fake batches\n",
        "        errD = errD_real + errD_fake\n",
        "        # Update D\n",
        "        optimizerD.step()\n",
        "\n",
        "        ############################\n",
        "        # (2) Update G network: maximize log(D(G(z)))\n",
        "        ###########################\n",
        "        netG.zero_grad()\n",
        "        label.fill_(real_label)  # fake labels are real for generator cost\n",
        "        # Since we just updated D, perform another forward pass of all-fake batch through D\n",
        "        output = netD(fake).view(-1)\n",
        "        # Calculate G's loss based on this output\n",
        "        errG = criterion(output, label)\n",
        "        # Calculate gradients for G\n",
        "        errG.backward()\n",
        "        D_G_z2 = output.mean().item()\n",
        "        # Update G\n",
        "        optimizerG.step()\n",
        "\n",
        "    # Save the loss for the generator and discriminator\n",
        "    writer.add_scalar('Loss/Gen', errG.item(), epoch_counter)\n",
        "    writer.add_scalar('Loss/Disc', errD.item(), epoch_counter)\n",
        "\n",
        "    # print the status\n",
        "    print('EPOCH: [%d/%d] BATCH: [%d/%d]\\tLoss_D: %.4f\\tLoss_G: %.4f\\tD(x): %.4f\\tD(G(z)): %.4f / %.4f'\n",
        "            % (epoch_counter, N_EPOCHS, i, len(dataloader),\n",
        "                errD.item(), errG.item(), D_x, D_G_z1, D_G_z2))\n",
        "    \n",
        "    # saves a checkpoint        \n",
        "    checkpoint = {'netG_state': netG.state_dict(), 'optimizerG': optimizerG.state_dict(),\n",
        "                    'netD_state': netD.state_dict(), 'optimizerD': optimizerD.state_dict()}\n",
        "    torch.save(checkpoint, CHECKPOINT_PTH)\n",
        "    \n",
        "    # saves the epoch counter\n",
        "    with open(LOGDIR + '/itercount.txt', 'w') as f:\n",
        "        f.write(str(epoch_counter))\n",
        "    epoch_counter += 1\n",
        "\n",
        "    # Saves an image so we can view the progression\n",
        "    with torch.no_grad():\n",
        "        output = netG(fixed_noise).detach().cpu()\n",
        "    grid = torchvision.utils.make_grid(output[0])\n",
        "    writer.add_image('image_epoch_' + str(epoch_counter), grid)\n",
        "\n",
        "writer.close()"
      ],
      "execution_count": 15,
      "outputs": [
        {
          "output_type": "stream",
          "text": [
            "Starting Training Loop...\n"
          ],
          "name": "stdout"
        },
        {
          "output_type": "stream",
          "text": [
            "/pytorch/aten/src/ATen/native/TensorFactories.cpp:361: UserWarning: Deprecation warning: In a future PyTorch release torch.full will no longer return tensors of floating dtype by default. Instead, a bool fill_value will return a tensor of torch.bool dtype, and an integral fill_value will return a tensor of torch.long dtype. Set the optional `dtype` or `out` arguments to suppress this warning.\n"
          ],
          "name": "stderr"
        },
        {
          "output_type": "stream",
          "text": [
            "EPOCH: [0/200] BATCH: [19/20]\tLoss_D: 1.0665\tLoss_G: 1.0326\tD(x): 0.6583\tD(G(z)): 0.4614 / 0.3602\n",
            "EPOCH: [1/200] BATCH: [19/20]\tLoss_D: 0.7657\tLoss_G: 1.3171\tD(x): 0.7523\tD(G(z)): 0.3755 / 0.2760\n",
            "EPOCH: [2/200] BATCH: [19/20]\tLoss_D: 0.7195\tLoss_G: 1.6093\tD(x): 0.6857\tD(G(z)): 0.2711 / 0.2024\n",
            "EPOCH: [3/200] BATCH: [19/20]\tLoss_D: 0.5553\tLoss_G: 2.0223\tD(x): 0.7699\tD(G(z)): 0.2475 / 0.1380\n",
            "EPOCH: [4/200] BATCH: [19/20]\tLoss_D: 0.4095\tLoss_G: 2.5067\tD(x): 0.8238\tD(G(z)): 0.1850 / 0.0869\n",
            "EPOCH: [5/200] BATCH: [19/20]\tLoss_D: 0.3249\tLoss_G: 2.6098\tD(x): 0.8198\tD(G(z)): 0.1094 / 0.0762\n",
            "EPOCH: [6/200] BATCH: [19/20]\tLoss_D: 0.4560\tLoss_G: 2.4028\tD(x): 0.7442\tD(G(z)): 0.1178 / 0.0974\n",
            "EPOCH: [7/200] BATCH: [19/20]\tLoss_D: 0.5420\tLoss_G: 1.9441\tD(x): 0.8664\tD(G(z)): 0.3201 / 0.1573\n",
            "EPOCH: [8/200] BATCH: [19/20]\tLoss_D: 0.4145\tLoss_G: 2.6070\tD(x): 0.7660\tD(G(z)): 0.1247 / 0.0852\n",
            "EPOCH: [9/200] BATCH: [19/20]\tLoss_D: 0.4640\tLoss_G: 2.2081\tD(x): 0.8185\tD(G(z)): 0.2218 / 0.1172\n",
            "EPOCH: [10/200] BATCH: [19/20]\tLoss_D: 0.1050\tLoss_G: 3.6812\tD(x): 0.9457\tD(G(z)): 0.0467 / 0.0277\n",
            "EPOCH: [11/200] BATCH: [19/20]\tLoss_D: 0.4425\tLoss_G: 2.4954\tD(x): 0.7347\tD(G(z)): 0.0940 / 0.0862\n",
            "EPOCH: [12/200] BATCH: [19/20]\tLoss_D: 0.7936\tLoss_G: 1.5009\tD(x): 0.6219\tD(G(z)): 0.2329 / 0.2326\n",
            "EPOCH: [13/200] BATCH: [19/20]\tLoss_D: 0.5646\tLoss_G: 1.9751\tD(x): 0.8475\tD(G(z)): 0.2938 / 0.1782\n",
            "EPOCH: [14/200] BATCH: [19/20]\tLoss_D: 1.3393\tLoss_G: 1.3432\tD(x): 0.4303\tD(G(z)): 0.2717 / 0.2841\n",
            "EPOCH: [15/200] BATCH: [19/20]\tLoss_D: 0.5472\tLoss_G: 1.9043\tD(x): 0.8303\tD(G(z)): 0.2833 / 0.1593\n",
            "EPOCH: [16/200] BATCH: [19/20]\tLoss_D: 0.7272\tLoss_G: 1.8330\tD(x): 0.6961\tD(G(z)): 0.2453 / 0.1872\n",
            "EPOCH: [17/200] BATCH: [19/20]\tLoss_D: 0.7069\tLoss_G: 1.8583\tD(x): 0.7786\tD(G(z)): 0.3282 / 0.1839\n",
            "EPOCH: [18/200] BATCH: [19/20]\tLoss_D: 0.7723\tLoss_G: 1.6670\tD(x): 0.6863\tD(G(z)): 0.2892 / 0.1992\n",
            "EPOCH: [19/200] BATCH: [19/20]\tLoss_D: 0.8125\tLoss_G: 1.4745\tD(x): 0.6480\tD(G(z)): 0.2821 / 0.2486\n",
            "EPOCH: [20/200] BATCH: [19/20]\tLoss_D: 0.7501\tLoss_G: 1.8498\tD(x): 0.7226\tD(G(z)): 0.3178 / 0.1714\n",
            "EPOCH: [21/200] BATCH: [19/20]\tLoss_D: 0.5778\tLoss_G: 2.1433\tD(x): 0.7147\tD(G(z)): 0.1950 / 0.1261\n",
            "EPOCH: [22/200] BATCH: [19/20]\tLoss_D: 0.8537\tLoss_G: 1.7387\tD(x): 0.7644\tD(G(z)): 0.4011 / 0.1981\n",
            "EPOCH: [23/200] BATCH: [19/20]\tLoss_D: 0.6293\tLoss_G: 2.2012\tD(x): 0.7743\tD(G(z)): 0.2918 / 0.1257\n",
            "EPOCH: [24/200] BATCH: [19/20]\tLoss_D: 0.5279\tLoss_G: 1.9753\tD(x): 0.7960\tD(G(z)): 0.2281 / 0.1520\n",
            "EPOCH: [25/200] BATCH: [19/20]\tLoss_D: 0.4719\tLoss_G: 2.0283\tD(x): 0.7826\tD(G(z)): 0.1885 / 0.1441\n",
            "EPOCH: [26/200] BATCH: [19/20]\tLoss_D: 1.4172\tLoss_G: 1.3911\tD(x): 0.5606\tD(G(z)): 0.4934 / 0.2943\n",
            "EPOCH: [27/200] BATCH: [19/20]\tLoss_D: 1.1587\tLoss_G: 1.3927\tD(x): 0.7106\tD(G(z)): 0.5264 / 0.2779\n",
            "EPOCH: [28/200] BATCH: [19/20]\tLoss_D: 1.2291\tLoss_G: 1.0782\tD(x): 0.5715\tD(G(z)): 0.4518 / 0.3517\n",
            "EPOCH: [29/200] BATCH: [19/20]\tLoss_D: 1.1021\tLoss_G: 1.0837\tD(x): 0.5369\tD(G(z)): 0.3320 / 0.3604\n",
            "EPOCH: [30/200] BATCH: [19/20]\tLoss_D: 0.8786\tLoss_G: 1.4449\tD(x): 0.5863\tD(G(z)): 0.2629 / 0.2627\n",
            "EPOCH: [31/200] BATCH: [19/20]\tLoss_D: 1.1024\tLoss_G: 1.0563\tD(x): 0.6008\tD(G(z)): 0.4138 / 0.3719\n",
            "EPOCH: [32/200] BATCH: [19/20]\tLoss_D: 1.1593\tLoss_G: 1.1658\tD(x): 0.5785\tD(G(z)): 0.4148 / 0.3184\n",
            "EPOCH: [33/200] BATCH: [19/20]\tLoss_D: 1.1569\tLoss_G: 1.0997\tD(x): 0.4973\tD(G(z)): 0.2950 / 0.3496\n",
            "EPOCH: [34/200] BATCH: [19/20]\tLoss_D: 1.1471\tLoss_G: 1.1135\tD(x): 0.4685\tD(G(z)): 0.2772 / 0.3436\n",
            "EPOCH: [35/200] BATCH: [19/20]\tLoss_D: 1.0610\tLoss_G: 1.3344\tD(x): 0.5100\tD(G(z)): 0.2615 / 0.2688\n",
            "EPOCH: [36/200] BATCH: [19/20]\tLoss_D: 0.9006\tLoss_G: 1.4432\tD(x): 0.5392\tD(G(z)): 0.2248 / 0.2480\n",
            "EPOCH: [37/200] BATCH: [19/20]\tLoss_D: 0.9282\tLoss_G: 1.5595\tD(x): 0.5530\tD(G(z)): 0.2552 / 0.2452\n",
            "EPOCH: [38/200] BATCH: [19/20]\tLoss_D: 1.2187\tLoss_G: 1.3344\tD(x): 0.5665\tD(G(z)): 0.4463 / 0.2751\n",
            "EPOCH: [39/200] BATCH: [19/20]\tLoss_D: 1.1186\tLoss_G: 1.3718\tD(x): 0.5447\tD(G(z)): 0.3489 / 0.2659\n",
            "EPOCH: [40/200] BATCH: [19/20]\tLoss_D: 0.8387\tLoss_G: 1.8314\tD(x): 0.6033\tD(G(z)): 0.2676 / 0.1686\n",
            "EPOCH: [41/200] BATCH: [19/20]\tLoss_D: 0.7636\tLoss_G: 1.3814\tD(x): 0.7912\tD(G(z)): 0.3970 / 0.2577\n",
            "EPOCH: [42/200] BATCH: [19/20]\tLoss_D: 0.9311\tLoss_G: 1.5143\tD(x): 0.6870\tD(G(z)): 0.3931 / 0.2468\n",
            "EPOCH: [43/200] BATCH: [19/20]\tLoss_D: 0.8500\tLoss_G: 1.4686\tD(x): 0.7019\tD(G(z)): 0.3668 / 0.2596\n",
            "EPOCH: [44/200] BATCH: [19/20]\tLoss_D: 0.6111\tLoss_G: 1.7104\tD(x): 0.7724\tD(G(z)): 0.2652 / 0.1968\n",
            "EPOCH: [45/200] BATCH: [19/20]\tLoss_D: 1.3912\tLoss_G: 1.3062\tD(x): 0.4995\tD(G(z)): 0.4626 / 0.2969\n",
            "EPOCH: [46/200] BATCH: [19/20]\tLoss_D: 0.9112\tLoss_G: 1.3728\tD(x): 0.6352\tD(G(z)): 0.3304 / 0.2811\n",
            "EPOCH: [47/200] BATCH: [19/20]\tLoss_D: 0.8909\tLoss_G: 1.4191\tD(x): 0.7846\tD(G(z)): 0.4477 / 0.2636\n",
            "EPOCH: [48/200] BATCH: [19/20]\tLoss_D: 1.6142\tLoss_G: 1.0527\tD(x): 0.4179\tD(G(z)): 0.4465 / 0.3812\n",
            "EPOCH: [49/200] BATCH: [19/20]\tLoss_D: 0.8879\tLoss_G: 1.2835\tD(x): 0.8140\tD(G(z)): 0.4720 / 0.2939\n",
            "EPOCH: [50/200] BATCH: [19/20]\tLoss_D: 1.2497\tLoss_G: 0.9917\tD(x): 0.5592\tD(G(z)): 0.4526 / 0.3967\n",
            "EPOCH: [51/200] BATCH: [19/20]\tLoss_D: 0.8081\tLoss_G: 1.4246\tD(x): 0.7027\tD(G(z)): 0.2977 / 0.2578\n",
            "EPOCH: [52/200] BATCH: [19/20]\tLoss_D: 0.8189\tLoss_G: 1.7331\tD(x): 0.5889\tD(G(z)): 0.2316 / 0.1888\n",
            "EPOCH: [53/200] BATCH: [19/20]\tLoss_D: 0.9215\tLoss_G: 1.2542\tD(x): 0.6347\tD(G(z)): 0.3527 / 0.3004\n",
            "EPOCH: [54/200] BATCH: [19/20]\tLoss_D: 1.0369\tLoss_G: 1.1703\tD(x): 0.7189\tD(G(z)): 0.4806 / 0.3225\n",
            "EPOCH: [55/200] BATCH: [19/20]\tLoss_D: 1.3352\tLoss_G: 1.2191\tD(x): 0.4357\tD(G(z)): 0.3449 / 0.3028\n",
            "EPOCH: [56/200] BATCH: [19/20]\tLoss_D: 0.8397\tLoss_G: 1.5546\tD(x): 0.6054\tD(G(z)): 0.2561 / 0.2387\n",
            "EPOCH: [57/200] BATCH: [19/20]\tLoss_D: 1.2891\tLoss_G: 0.8652\tD(x): 0.4776\tD(G(z)): 0.3879 / 0.4611\n",
            "EPOCH: [58/200] BATCH: [19/20]\tLoss_D: 0.8744\tLoss_G: 1.5322\tD(x): 0.6928\tD(G(z)): 0.3545 / 0.2389\n",
            "EPOCH: [59/200] BATCH: [19/20]\tLoss_D: 1.2613\tLoss_G: 1.1284\tD(x): 0.5968\tD(G(z)): 0.4594 / 0.3468\n",
            "EPOCH: [60/200] BATCH: [19/20]\tLoss_D: 1.1128\tLoss_G: 1.3358\tD(x): 0.5290\tD(G(z)): 0.3313 / 0.2875\n",
            "EPOCH: [61/200] BATCH: [19/20]\tLoss_D: 1.7836\tLoss_G: 0.8312\tD(x): 0.4179\tD(G(z)): 0.4882 / 0.4515\n",
            "EPOCH: [62/200] BATCH: [19/20]\tLoss_D: 0.6922\tLoss_G: 1.3978\tD(x): 0.7674\tD(G(z)): 0.3283 / 0.2632\n",
            "EPOCH: [63/200] BATCH: [19/20]\tLoss_D: 0.9275\tLoss_G: 1.5715\tD(x): 0.5479\tD(G(z)): 0.2553 / 0.2215\n",
            "EPOCH: [64/200] BATCH: [19/20]\tLoss_D: 1.3828\tLoss_G: 0.9353\tD(x): 0.6494\tD(G(z)): 0.5594 / 0.4113\n",
            "EPOCH: [65/200] BATCH: [19/20]\tLoss_D: 1.1935\tLoss_G: 1.2523\tD(x): 0.5975\tD(G(z)): 0.4549 / 0.2992\n",
            "EPOCH: [66/200] BATCH: [19/20]\tLoss_D: 1.2611\tLoss_G: 1.1219\tD(x): 0.6355\tD(G(z)): 0.4889 / 0.3664\n",
            "EPOCH: [67/200] BATCH: [19/20]\tLoss_D: 1.1463\tLoss_G: 1.3323\tD(x): 0.5865\tD(G(z)): 0.4248 / 0.2761\n",
            "EPOCH: [68/200] BATCH: [19/20]\tLoss_D: 0.9528\tLoss_G: 1.3000\tD(x): 0.5947\tD(G(z)): 0.3289 / 0.2883\n",
            "EPOCH: [69/200] BATCH: [19/20]\tLoss_D: 1.1104\tLoss_G: 1.1369\tD(x): 0.6692\tD(G(z)): 0.4674 / 0.3330\n",
            "EPOCH: [70/200] BATCH: [19/20]\tLoss_D: 1.0313\tLoss_G: 1.0538\tD(x): 0.6530\tD(G(z)): 0.4383 / 0.3593\n",
            "EPOCH: [71/200] BATCH: [19/20]\tLoss_D: 1.0267\tLoss_G: 1.1124\tD(x): 0.5365\tD(G(z)): 0.2941 / 0.3360\n",
            "EPOCH: [72/200] BATCH: [19/20]\tLoss_D: 0.8820\tLoss_G: 1.2031\tD(x): 0.7235\tD(G(z)): 0.4003 / 0.3293\n",
            "EPOCH: [73/200] BATCH: [19/20]\tLoss_D: 0.6608\tLoss_G: 1.4009\tD(x): 0.8802\tD(G(z)): 0.3936 / 0.2563\n",
            "EPOCH: [74/200] BATCH: [19/20]\tLoss_D: 1.0836\tLoss_G: 1.1699\tD(x): 0.6772\tD(G(z)): 0.4727 / 0.3255\n",
            "EPOCH: [75/200] BATCH: [19/20]\tLoss_D: 0.9547\tLoss_G: 1.3189\tD(x): 0.6538\tD(G(z)): 0.3710 / 0.2881\n",
            "EPOCH: [76/200] BATCH: [19/20]\tLoss_D: 1.1158\tLoss_G: 1.3617\tD(x): 0.5748\tD(G(z)): 0.3929 / 0.2879\n",
            "EPOCH: [77/200] BATCH: [19/20]\tLoss_D: 1.2621\tLoss_G: 1.1924\tD(x): 0.5085\tD(G(z)): 0.3669 / 0.3260\n",
            "EPOCH: [78/200] BATCH: [19/20]\tLoss_D: 0.8368\tLoss_G: 1.2969\tD(x): 0.5924\tD(G(z)): 0.2393 / 0.2926\n",
            "EPOCH: [79/200] BATCH: [19/20]\tLoss_D: 1.1617\tLoss_G: 1.3086\tD(x): 0.6366\tD(G(z)): 0.4673 / 0.2893\n",
            "EPOCH: [80/200] BATCH: [19/20]\tLoss_D: 0.8879\tLoss_G: 1.6452\tD(x): 0.5627\tD(G(z)): 0.2276 / 0.2007\n",
            "EPOCH: [81/200] BATCH: [19/20]\tLoss_D: 0.7860\tLoss_G: 1.5308\tD(x): 0.6343\tD(G(z)): 0.2678 / 0.2211\n",
            "EPOCH: [82/200] BATCH: [19/20]\tLoss_D: 1.0388\tLoss_G: 1.1972\tD(x): 0.5542\tD(G(z)): 0.3384 / 0.3215\n",
            "EPOCH: [83/200] BATCH: [19/20]\tLoss_D: 0.9033\tLoss_G: 1.2950\tD(x): 0.7066\tD(G(z)): 0.4090 / 0.2839\n",
            "EPOCH: [84/200] BATCH: [19/20]\tLoss_D: 0.8466\tLoss_G: 1.3178\tD(x): 0.6561\tD(G(z)): 0.3056 / 0.2875\n",
            "EPOCH: [85/200] BATCH: [19/20]\tLoss_D: 0.8731\tLoss_G: 1.2003\tD(x): 0.6701\tD(G(z)): 0.3615 / 0.3094\n",
            "EPOCH: [86/200] BATCH: [19/20]\tLoss_D: 0.8920\tLoss_G: 1.4005\tD(x): 0.7541\tD(G(z)): 0.4336 / 0.2618\n",
            "EPOCH: [87/200] BATCH: [19/20]\tLoss_D: 0.9719\tLoss_G: 1.4865\tD(x): 0.6063\tD(G(z)): 0.3253 / 0.2467\n",
            "EPOCH: [88/200] BATCH: [19/20]\tLoss_D: 0.9196\tLoss_G: 1.2424\tD(x): 0.6255\tD(G(z)): 0.3421 / 0.3220\n",
            "EPOCH: [89/200] BATCH: [19/20]\tLoss_D: 1.1188\tLoss_G: 1.1902\tD(x): 0.6542\tD(G(z)): 0.4739 / 0.3306\n",
            "EPOCH: [90/200] BATCH: [19/20]\tLoss_D: 0.8693\tLoss_G: 1.5040\tD(x): 0.6212\tD(G(z)): 0.2881 / 0.2492\n",
            "EPOCH: [91/200] BATCH: [19/20]\tLoss_D: 0.9665\tLoss_G: 1.4761\tD(x): 0.6553\tD(G(z)): 0.3903 / 0.2388\n",
            "EPOCH: [92/200] BATCH: [19/20]\tLoss_D: 0.9057\tLoss_G: 1.4694\tD(x): 0.6110\tD(G(z)): 0.3073 / 0.2545\n",
            "EPOCH: [93/200] BATCH: [19/20]\tLoss_D: 0.6417\tLoss_G: 1.5321\tD(x): 0.7480\tD(G(z)): 0.2760 / 0.2489\n",
            "EPOCH: [94/200] BATCH: [19/20]\tLoss_D: 0.8876\tLoss_G: 1.6381\tD(x): 0.6868\tD(G(z)): 0.3233 / 0.2270\n",
            "EPOCH: [95/200] BATCH: [19/20]\tLoss_D: 1.2661\tLoss_G: 1.2434\tD(x): 0.5169\tD(G(z)): 0.3977 / 0.3046\n",
            "EPOCH: [96/200] BATCH: [19/20]\tLoss_D: 1.6645\tLoss_G: 0.9943\tD(x): 0.3671\tD(G(z)): 0.4183 / 0.3990\n",
            "EPOCH: [97/200] BATCH: [19/20]\tLoss_D: 0.8705\tLoss_G: 1.8711\tD(x): 0.6850\tD(G(z)): 0.3507 / 0.1842\n",
            "EPOCH: [98/200] BATCH: [19/20]\tLoss_D: 0.7896\tLoss_G: 1.4986\tD(x): 0.6592\tD(G(z)): 0.2884 / 0.2505\n",
            "EPOCH: [99/200] BATCH: [19/20]\tLoss_D: 0.6080\tLoss_G: 1.6975\tD(x): 0.8557\tD(G(z)): 0.3518 / 0.1926\n",
            "EPOCH: [100/200] BATCH: [19/20]\tLoss_D: 1.1612\tLoss_G: 1.1297\tD(x): 0.5599\tD(G(z)): 0.4193 / 0.3352\n",
            "EPOCH: [101/200] BATCH: [19/20]\tLoss_D: 0.7264\tLoss_G: 1.7952\tD(x): 0.6307\tD(G(z)): 0.2137 / 0.1809\n",
            "EPOCH: [102/200] BATCH: [19/20]\tLoss_D: 0.8112\tLoss_G: 1.4825\tD(x): 0.6954\tD(G(z)): 0.3187 / 0.2626\n",
            "EPOCH: [103/200] BATCH: [19/20]\tLoss_D: 1.1916\tLoss_G: 1.6578\tD(x): 0.4843\tD(G(z)): 0.2910 / 0.2127\n",
            "EPOCH: [104/200] BATCH: [19/20]\tLoss_D: 0.7330\tLoss_G: 1.5145\tD(x): 0.7297\tD(G(z)): 0.3243 / 0.2355\n",
            "EPOCH: [105/200] BATCH: [19/20]\tLoss_D: 0.9052\tLoss_G: 1.3612\tD(x): 0.6202\tD(G(z)): 0.3201 / 0.2705\n",
            "EPOCH: [106/200] BATCH: [19/20]\tLoss_D: 0.8321\tLoss_G: 1.5986\tD(x): 0.6996\tD(G(z)): 0.3448 / 0.2159\n",
            "EPOCH: [107/200] BATCH: [19/20]\tLoss_D: 1.1356\tLoss_G: 1.6750\tD(x): 0.5158\tD(G(z)): 0.3132 / 0.2206\n",
            "EPOCH: [108/200] BATCH: [19/20]\tLoss_D: 0.9991\tLoss_G: 1.5225\tD(x): 0.6216\tD(G(z)): 0.3481 / 0.2644\n",
            "EPOCH: [109/200] BATCH: [19/20]\tLoss_D: 1.1606\tLoss_G: 1.7964\tD(x): 0.7963\tD(G(z)): 0.5565 / 0.1899\n",
            "EPOCH: [110/200] BATCH: [19/20]\tLoss_D: 0.8823\tLoss_G: 1.8633\tD(x): 0.6348\tD(G(z)): 0.3199 / 0.1637\n",
            "EPOCH: [111/200] BATCH: [19/20]\tLoss_D: 0.9296\tLoss_G: 1.4763\tD(x): 0.7299\tD(G(z)): 0.4418 / 0.2362\n",
            "EPOCH: [112/200] BATCH: [19/20]\tLoss_D: 0.9700\tLoss_G: 1.4225\tD(x): 0.5509\tD(G(z)): 0.2607 / 0.2577\n",
            "EPOCH: [113/200] BATCH: [19/20]\tLoss_D: 0.9752\tLoss_G: 1.2800\tD(x): 0.6533\tD(G(z)): 0.3864 / 0.3029\n",
            "EPOCH: [114/200] BATCH: [19/20]\tLoss_D: 1.0569\tLoss_G: 1.3704\tD(x): 0.7096\tD(G(z)): 0.4605 / 0.2924\n",
            "EPOCH: [115/200] BATCH: [19/20]\tLoss_D: 0.8916\tLoss_G: 1.6405\tD(x): 0.7367\tD(G(z)): 0.3804 / 0.2166\n",
            "EPOCH: [116/200] BATCH: [19/20]\tLoss_D: 0.7418\tLoss_G: 1.3990\tD(x): 0.7734\tD(G(z)): 0.3681 / 0.2623\n",
            "EPOCH: [117/200] BATCH: [19/20]\tLoss_D: 1.0805\tLoss_G: 1.2984\tD(x): 0.6707\tD(G(z)): 0.4583 / 0.2827\n",
            "EPOCH: [118/200] BATCH: [19/20]\tLoss_D: 0.6321\tLoss_G: 1.8440\tD(x): 0.8074\tD(G(z)): 0.3270 / 0.1785\n",
            "EPOCH: [119/200] BATCH: [19/20]\tLoss_D: 1.1871\tLoss_G: 1.2944\tD(x): 0.6468\tD(G(z)): 0.4898 / 0.2889\n",
            "EPOCH: [120/200] BATCH: [19/20]\tLoss_D: 1.2222\tLoss_G: 1.4279\tD(x): 0.6048\tD(G(z)): 0.4417 / 0.2569\n",
            "EPOCH: [121/200] BATCH: [19/20]\tLoss_D: 1.1496\tLoss_G: 1.1734\tD(x): 0.5438\tD(G(z)): 0.3647 / 0.3404\n",
            "EPOCH: [122/200] BATCH: [19/20]\tLoss_D: 0.7606\tLoss_G: 1.5184\tD(x): 0.7472\tD(G(z)): 0.3647 / 0.2300\n",
            "EPOCH: [123/200] BATCH: [19/20]\tLoss_D: 1.0053\tLoss_G: 1.5272\tD(x): 0.6092\tD(G(z)): 0.3762 / 0.2327\n",
            "EPOCH: [124/200] BATCH: [19/20]\tLoss_D: 1.3724\tLoss_G: 1.1120\tD(x): 0.4647\tD(G(z)): 0.4010 / 0.3517\n",
            "EPOCH: [125/200] BATCH: [19/20]\tLoss_D: 1.0825\tLoss_G: 1.5120\tD(x): 0.6514\tD(G(z)): 0.4111 / 0.2402\n",
            "EPOCH: [126/200] BATCH: [19/20]\tLoss_D: 1.2391\tLoss_G: 1.2945\tD(x): 0.6442\tD(G(z)): 0.5076 / 0.2906\n",
            "EPOCH: [127/200] BATCH: [19/20]\tLoss_D: 0.9960\tLoss_G: 1.3625\tD(x): 0.6555\tD(G(z)): 0.4011 / 0.2763\n",
            "EPOCH: [128/200] BATCH: [19/20]\tLoss_D: 1.0997\tLoss_G: 1.4121\tD(x): 0.5665\tD(G(z)): 0.3609 / 0.2664\n",
            "EPOCH: [129/200] BATCH: [19/20]\tLoss_D: 0.9381\tLoss_G: 1.1765\tD(x): 0.5953\tD(G(z)): 0.3074 / 0.3245\n",
            "EPOCH: [130/200] BATCH: [19/20]\tLoss_D: 0.9056\tLoss_G: 1.4128\tD(x): 0.7257\tD(G(z)): 0.4100 / 0.2649\n",
            "EPOCH: [131/200] BATCH: [19/20]\tLoss_D: 0.6484\tLoss_G: 1.5942\tD(x): 0.7486\tD(G(z)): 0.2700 / 0.2170\n",
            "EPOCH: [132/200] BATCH: [19/20]\tLoss_D: 0.7065\tLoss_G: 1.6982\tD(x): 0.6897\tD(G(z)): 0.2495 / 0.1997\n",
            "EPOCH: [133/200] BATCH: [19/20]\tLoss_D: 0.9469\tLoss_G: 1.6976\tD(x): 0.6565\tD(G(z)): 0.3494 / 0.1973\n",
            "EPOCH: [134/200] BATCH: [19/20]\tLoss_D: 0.9970\tLoss_G: 1.4877\tD(x): 0.7692\tD(G(z)): 0.4853 / 0.2581\n",
            "EPOCH: [135/200] BATCH: [19/20]\tLoss_D: 0.9140\tLoss_G: 1.4345\tD(x): 0.5896\tD(G(z)): 0.2829 / 0.2669\n",
            "EPOCH: [136/200] BATCH: [19/20]\tLoss_D: 0.8441\tLoss_G: 1.5372\tD(x): 0.6261\tD(G(z)): 0.2798 / 0.2312\n",
            "EPOCH: [137/200] BATCH: [19/20]\tLoss_D: 0.5599\tLoss_G: 1.9157\tD(x): 0.8665\tD(G(z)): 0.3268 / 0.1791\n",
            "EPOCH: [138/200] BATCH: [19/20]\tLoss_D: 0.9268\tLoss_G: 1.1975\tD(x): 0.6599\tD(G(z)): 0.3770 / 0.3105\n",
            "EPOCH: [139/200] BATCH: [19/20]\tLoss_D: 0.9032\tLoss_G: 1.4170\tD(x): 0.7366\tD(G(z)): 0.4200 / 0.2594\n",
            "EPOCH: [140/200] BATCH: [19/20]\tLoss_D: 0.5386\tLoss_G: 1.7866\tD(x): 0.8384\tD(G(z)): 0.2887 / 0.1753\n",
            "EPOCH: [141/200] BATCH: [19/20]\tLoss_D: 0.6660\tLoss_G: 1.5231\tD(x): 0.7346\tD(G(z)): 0.2825 / 0.2350\n",
            "EPOCH: [142/200] BATCH: [19/20]\tLoss_D: 0.7698\tLoss_G: 1.7867\tD(x): 0.6937\tD(G(z)): 0.3097 / 0.1854\n",
            "EPOCH: [143/200] BATCH: [19/20]\tLoss_D: 0.8140\tLoss_G: 1.4778\tD(x): 0.7369\tD(G(z)): 0.3709 / 0.2403\n",
            "EPOCH: [144/200] BATCH: [19/20]\tLoss_D: 1.2014\tLoss_G: 1.4374\tD(x): 0.4895\tD(G(z)): 0.3202 / 0.2826\n",
            "EPOCH: [145/200] BATCH: [19/20]\tLoss_D: 0.8957\tLoss_G: 1.4960\tD(x): 0.5731\tD(G(z)): 0.2646 / 0.2361\n",
            "EPOCH: [146/200] BATCH: [19/20]\tLoss_D: 1.1015\tLoss_G: 1.2380\tD(x): 0.5449\tD(G(z)): 0.3538 / 0.3007\n",
            "EPOCH: [147/200] BATCH: [19/20]\tLoss_D: 1.0278\tLoss_G: 1.4058\tD(x): 0.5414\tD(G(z)): 0.2967 / 0.2731\n",
            "EPOCH: [148/200] BATCH: [19/20]\tLoss_D: 1.2891\tLoss_G: 1.0637\tD(x): 0.5845\tD(G(z)): 0.4693 / 0.3731\n",
            "EPOCH: [149/200] BATCH: [19/20]\tLoss_D: 0.8550\tLoss_G: 1.3092\tD(x): 0.6878\tD(G(z)): 0.3580 / 0.2807\n",
            "EPOCH: [150/200] BATCH: [19/20]\tLoss_D: 1.1662\tLoss_G: 1.0813\tD(x): 0.6489\tD(G(z)): 0.4650 / 0.3558\n",
            "EPOCH: [151/200] BATCH: [19/20]\tLoss_D: 0.8527\tLoss_G: 1.3743\tD(x): 0.7613\tD(G(z)): 0.4296 / 0.2619\n",
            "EPOCH: [152/200] BATCH: [19/20]\tLoss_D: 0.8540\tLoss_G: 1.4197\tD(x): 0.6702\tD(G(z)): 0.3428 / 0.2581\n",
            "EPOCH: [153/200] BATCH: [19/20]\tLoss_D: 0.9149\tLoss_G: 1.6384\tD(x): 0.6878\tD(G(z)): 0.3819 / 0.2150\n",
            "EPOCH: [154/200] BATCH: [19/20]\tLoss_D: 0.7514\tLoss_G: 1.6231\tD(x): 0.5950\tD(G(z)): 0.1715 / 0.2108\n",
            "EPOCH: [155/200] BATCH: [19/20]\tLoss_D: 0.6760\tLoss_G: 1.5411\tD(x): 0.7442\tD(G(z)): 0.2996 / 0.2310\n",
            "EPOCH: [156/200] BATCH: [19/20]\tLoss_D: 0.7369\tLoss_G: 1.9659\tD(x): 0.6621\tD(G(z)): 0.2468 / 0.1728\n",
            "EPOCH: [157/200] BATCH: [19/20]\tLoss_D: 0.5162\tLoss_G: 1.9590\tD(x): 0.8045\tD(G(z)): 0.2450 / 0.1525\n",
            "EPOCH: [158/200] BATCH: [19/20]\tLoss_D: 1.0854\tLoss_G: 1.4074\tD(x): 0.5968\tD(G(z)): 0.3911 / 0.2825\n",
            "EPOCH: [159/200] BATCH: [19/20]\tLoss_D: 0.6543\tLoss_G: 1.5860\tD(x): 0.7265\tD(G(z)): 0.2668 / 0.2118\n",
            "EPOCH: [160/200] BATCH: [19/20]\tLoss_D: 0.7506\tLoss_G: 1.8475\tD(x): 0.6075\tD(G(z)): 0.1733 / 0.1962\n",
            "EPOCH: [161/200] BATCH: [19/20]\tLoss_D: 0.7725\tLoss_G: 1.6797\tD(x): 0.6705\tD(G(z)): 0.2594 / 0.2115\n",
            "EPOCH: [162/200] BATCH: [19/20]\tLoss_D: 0.8139\tLoss_G: 1.6992\tD(x): 0.6464\tD(G(z)): 0.2760 / 0.2021\n",
            "EPOCH: [163/200] BATCH: [19/20]\tLoss_D: 0.9057\tLoss_G: 1.7000\tD(x): 0.6301\tD(G(z)): 0.3165 / 0.2119\n",
            "EPOCH: [164/200] BATCH: [19/20]\tLoss_D: 0.5271\tLoss_G: 1.7709\tD(x): 0.7896\tD(G(z)): 0.2415 / 0.1898\n",
            "EPOCH: [165/200] BATCH: [19/20]\tLoss_D: 0.9732\tLoss_G: 1.2020\tD(x): 0.7488\tD(G(z)): 0.4718 / 0.3107\n",
            "EPOCH: [166/200] BATCH: [19/20]\tLoss_D: 1.1703\tLoss_G: 1.5034\tD(x): 0.5181\tD(G(z)): 0.3359 / 0.2593\n",
            "EPOCH: [167/200] BATCH: [19/20]\tLoss_D: 0.9000\tLoss_G: 1.5784\tD(x): 0.5516\tD(G(z)): 0.2175 / 0.2400\n",
            "EPOCH: [168/200] BATCH: [19/20]\tLoss_D: 0.6752\tLoss_G: 1.7221\tD(x): 0.8320\tD(G(z)): 0.3461 / 0.2162\n",
            "EPOCH: [169/200] BATCH: [19/20]\tLoss_D: 1.1415\tLoss_G: 1.9074\tD(x): 0.4162\tD(G(z)): 0.1774 / 0.1752\n",
            "EPOCH: [170/200] BATCH: [19/20]\tLoss_D: 0.6689\tLoss_G: 1.8396\tD(x): 0.8158\tD(G(z)): 0.3356 / 0.1682\n",
            "EPOCH: [171/200] BATCH: [19/20]\tLoss_D: 1.3931\tLoss_G: 1.0350\tD(x): 0.3522\tD(G(z)): 0.2265 / 0.3784\n",
            "EPOCH: [172/200] BATCH: [19/20]\tLoss_D: 0.8787\tLoss_G: 1.6748\tD(x): 0.6099\tD(G(z)): 0.2763 / 0.2046\n",
            "EPOCH: [173/200] BATCH: [19/20]\tLoss_D: 0.6480\tLoss_G: 1.7046\tD(x): 0.7833\tD(G(z)): 0.2985 / 0.2031\n",
            "EPOCH: [174/200] BATCH: [19/20]\tLoss_D: 0.8685\tLoss_G: 1.5363\tD(x): 0.6327\tD(G(z)): 0.3004 / 0.2243\n",
            "EPOCH: [175/200] BATCH: [19/20]\tLoss_D: 0.7323\tLoss_G: 1.8940\tD(x): 0.6810\tD(G(z)): 0.2361 / 0.1613\n",
            "EPOCH: [176/200] BATCH: [19/20]\tLoss_D: 0.8213\tLoss_G: 1.5020\tD(x): 0.7574\tD(G(z)): 0.3853 / 0.2460\n",
            "EPOCH: [177/200] BATCH: [19/20]\tLoss_D: 0.5942\tLoss_G: 2.1279\tD(x): 0.7282\tD(G(z)): 0.2107 / 0.1617\n",
            "EPOCH: [178/200] BATCH: [19/20]\tLoss_D: 0.7244\tLoss_G: 1.6337\tD(x): 0.7215\tD(G(z)): 0.2995 / 0.2191\n",
            "EPOCH: [179/200] BATCH: [19/20]\tLoss_D: 1.0381\tLoss_G: 1.6920\tD(x): 0.6824\tD(G(z)): 0.4240 / 0.2229\n",
            "EPOCH: [180/200] BATCH: [19/20]\tLoss_D: 0.7194\tLoss_G: 1.6022\tD(x): 0.7341\tD(G(z)): 0.3083 / 0.2211\n",
            "EPOCH: [181/200] BATCH: [19/20]\tLoss_D: 0.6482\tLoss_G: 2.2222\tD(x): 0.8546\tD(G(z)): 0.3654 / 0.1235\n",
            "EPOCH: [182/200] BATCH: [19/20]\tLoss_D: 0.4957\tLoss_G: 2.1339\tD(x): 0.7993\tD(G(z)): 0.2249 / 0.1303\n",
            "EPOCH: [183/200] BATCH: [19/20]\tLoss_D: 0.8473\tLoss_G: 1.9524\tD(x): 0.8655\tD(G(z)): 0.4803 / 0.1671\n",
            "EPOCH: [184/200] BATCH: [19/20]\tLoss_D: 0.7348\tLoss_G: 1.3865\tD(x): 0.7814\tD(G(z)): 0.3703 / 0.2692\n",
            "EPOCH: [185/200] BATCH: [19/20]\tLoss_D: 1.0259\tLoss_G: 1.4079\tD(x): 0.6269\tD(G(z)): 0.3922 / 0.2624\n",
            "EPOCH: [186/200] BATCH: [19/20]\tLoss_D: 0.6895\tLoss_G: 1.7767\tD(x): 0.7532\tD(G(z)): 0.3084 / 0.1948\n",
            "EPOCH: [187/200] BATCH: [19/20]\tLoss_D: 0.9504\tLoss_G: 1.4663\tD(x): 0.6128\tD(G(z)): 0.3240 / 0.2510\n",
            "EPOCH: [188/200] BATCH: [19/20]\tLoss_D: 0.8110\tLoss_G: 1.6483\tD(x): 0.7241\tD(G(z)): 0.3390 / 0.2139\n",
            "EPOCH: [189/200] BATCH: [19/20]\tLoss_D: 0.7293\tLoss_G: 1.4689\tD(x): 0.7218\tD(G(z)): 0.3031 / 0.2589\n",
            "EPOCH: [190/200] BATCH: [19/20]\tLoss_D: 1.0931\tLoss_G: 1.3645\tD(x): 0.5439\tD(G(z)): 0.3558 / 0.2654\n",
            "EPOCH: [191/200] BATCH: [19/20]\tLoss_D: 0.6994\tLoss_G: 1.5704\tD(x): 0.7389\tD(G(z)): 0.3128 / 0.2227\n",
            "EPOCH: [192/200] BATCH: [19/20]\tLoss_D: 1.1155\tLoss_G: 1.2544\tD(x): 0.4551\tD(G(z)): 0.2348 / 0.3148\n",
            "EPOCH: [193/200] BATCH: [19/20]\tLoss_D: 0.7588\tLoss_G: 1.4848\tD(x): 0.8065\tD(G(z)): 0.3700 / 0.2703\n",
            "EPOCH: [194/200] BATCH: [19/20]\tLoss_D: 0.8075\tLoss_G: 1.8514\tD(x): 0.7233\tD(G(z)): 0.3413 / 0.1769\n",
            "EPOCH: [195/200] BATCH: [19/20]\tLoss_D: 0.3928\tLoss_G: 2.2231\tD(x): 0.8205\tD(G(z)): 0.1618 / 0.1425\n",
            "EPOCH: [196/200] BATCH: [19/20]\tLoss_D: 0.7089\tLoss_G: 1.8739\tD(x): 0.6526\tD(G(z)): 0.2138 / 0.1774\n",
            "EPOCH: [197/200] BATCH: [19/20]\tLoss_D: 0.7691\tLoss_G: 2.1772\tD(x): 0.8079\tD(G(z)): 0.3827 / 0.1390\n",
            "EPOCH: [198/200] BATCH: [19/20]\tLoss_D: 1.3095\tLoss_G: 1.1450\tD(x): 0.4263\tD(G(z)): 0.3085 / 0.3628\n",
            "EPOCH: [199/200] BATCH: [19/20]\tLoss_D: 0.6725\tLoss_G: 1.7495\tD(x): 0.6280\tD(G(z)): 0.1516 / 0.2069\n"
          ],
          "name": "stdout"
        }
      ]
    },
    {
      "cell_type": "markdown",
      "metadata": {
        "id": "V4RRxrETkemZ",
        "colab_type": "text"
      },
      "source": [
        "## Results Review"
      ]
    },
    {
      "cell_type": "markdown",
      "metadata": {
        "id": "oyJNGS4Ikeme",
        "colab_type": "text"
      },
      "source": [
        "### Batch of real vs fake images"
      ]
    },
    {
      "cell_type": "code",
      "metadata": {
        "id": "UTdq7hARkeme",
        "colab_type": "code",
        "outputId": "fa4c3ad3-4bf5-4829-f4ca-40df205a3ef9",
        "colab": {
          "base_uri": "https://localhost:8080/",
          "height": 411
        }
      },
      "source": [
        "# makes the image list\n",
        "with torch.no_grad():\n",
        "    fake = netG(fixed_noise).detach().cpu()\n",
        "img_list.append(vutils.make_grid(fake[:16], padding=2, normalize=True, nrow=4))\n",
        "\n",
        "# Grab a batch of real images from the dataloader\n",
        "real_batch = next(iter(dataloader))\n",
        "\n",
        "# Plot the real images\n",
        "plt.figure(figsize=(15, 15))\n",
        "plt.subplot(1, 2, 1)\n",
        "plt.axis(\"off\")\n",
        "plt.imshow(np.transpose(vutils.make_grid(real_batch[0].to(device)[:16], padding=2, normalize=True, nrow=4).cpu(),(1, 2, 0)))\n",
        "\n",
        "# Plot the fake images from the last epoch\n",
        "plt.subplot(1, 2, 2)\n",
        "plt.axis(\"off\")\n",
        "plt.imshow(np.transpose(img_list[-1], (1, 2, 0)))\n",
        "plt.show()"
      ],
      "execution_count": 16,
      "outputs": [
        {
          "output_type": "display_data",
          "data": {
            "image/png": "[encoded data removed]",
            "text/plain": [
              "<Figure size 1080x1080 with 2 Axes>"
            ]
          },
          "metadata": {
            "tags": [],
            "needs_background": "light"
          }
        }
      ]
    },
    {
      "cell_type": "markdown",
      "metadata": {
        "id": "yaVgB6vAkemg",
        "colab_type": "text"
      },
      "source": [
        "### A random image"
      ]
    },
    {
      "cell_type": "code",
      "metadata": {
        "id": "7pdFQKFYkemg",
        "colab_type": "code",
        "outputId": "ec78f247-d067-4fff-8155-aec0ef0166cb",
        "colab": {
          "base_uri": "https://localhost:8080/",
          "height": 282
        }
      },
      "source": [
        "# helper function for converting images to a normal range\n",
        "def img_scale(img_tensor):\n",
        "    min_value = img_tensor.min()\n",
        "    span = img_tensor.max() - img_tensor.min()\n",
        "    img_tensor = (img_tensor - min_value) / span\n",
        "    img_tensor = np.transpose(img_tensor)\n",
        "\n",
        "    return img_tensor\n",
        "\n",
        "noise = torch.randn(b_size, GEN_INPUT_SIZE, 1, 1, device=device)\n",
        "output = netG(noise).detach().cpu()\n",
        "plt.imshow(img_scale(output[0]))"
      ],
      "execution_count": 17,
      "outputs": [
        {
          "output_type": "execute_result",
          "data": {
            "text/plain": [
              "<matplotlib.image.AxesImage at 0x7ffaf914cda0>"
            ]
          },
          "metadata": {
            "tags": []
          },
          "execution_count": 17
        },
        {
          "output_type": "display_data",
          "data": {
            "image/png": "[encoded data removed]",
            "text/plain": [
              "<Figure size 432x288 with 1 Axes>"
            ]
          },
          "metadata": {
            "tags": [],
            "needs_background": "light"
          }
        }
      ]
    }
  ]
}